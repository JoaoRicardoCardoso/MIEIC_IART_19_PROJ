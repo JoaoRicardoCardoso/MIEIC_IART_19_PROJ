{
 "cells": [
  {
   "cell_type": "markdown",
   "metadata": {},
   "source": [
    "## Tratamento de dados\n",
    "\n",
    "Para podermos obter resultados fiáveis, é preciso haver um tratamento dos dados que vem do dataset.\n",
    "Pegando dos dados processados anteriormente feito inicialmente, começamos por extrai-los do ficheiro para podermos manipulá-los."
   ]
  },
  {
   "cell_type": "code",
   "execution_count": 1,
   "metadata": {},
   "outputs": [
    {
     "data": {
      "text/html": [
       "<div>\n",
       "<style scoped>\n",
       "    .dataframe tbody tr th:only-of-type {\n",
       "        vertical-align: middle;\n",
       "    }\n",
       "\n",
       "    .dataframe tbody tr th {\n",
       "        vertical-align: top;\n",
       "    }\n",
       "\n",
       "    .dataframe thead th {\n",
       "        text-align: right;\n",
       "    }\n",
       "</style>\n",
       "<table border=\"1\" class=\"dataframe\">\n",
       "  <thead>\n",
       "    <tr style=\"text-align: right;\">\n",
       "      <th></th>\n",
       "      <th>Province/State</th>\n",
       "      <th>Country/Region</th>\n",
       "      <th>Lat</th>\n",
       "      <th>Long</th>\n",
       "      <th>Date</th>\n",
       "      <th>Confirmed</th>\n",
       "      <th>Deaths</th>\n",
       "      <th>Recovered</th>\n",
       "    </tr>\n",
       "  </thead>\n",
       "  <tbody>\n",
       "    <tr>\n",
       "      <th>0</th>\n",
       "      <td>NaN</td>\n",
       "      <td>Afghanistan</td>\n",
       "      <td>33.000000</td>\n",
       "      <td>65.000000</td>\n",
       "      <td>1/22/20</td>\n",
       "      <td>0</td>\n",
       "      <td>0</td>\n",
       "      <td>0</td>\n",
       "    </tr>\n",
       "    <tr>\n",
       "      <th>1</th>\n",
       "      <td>NaN</td>\n",
       "      <td>Albania</td>\n",
       "      <td>41.153300</td>\n",
       "      <td>20.168300</td>\n",
       "      <td>1/22/20</td>\n",
       "      <td>0</td>\n",
       "      <td>0</td>\n",
       "      <td>0</td>\n",
       "    </tr>\n",
       "    <tr>\n",
       "      <th>2</th>\n",
       "      <td>NaN</td>\n",
       "      <td>Algeria</td>\n",
       "      <td>28.033900</td>\n",
       "      <td>1.659600</td>\n",
       "      <td>1/22/20</td>\n",
       "      <td>0</td>\n",
       "      <td>0</td>\n",
       "      <td>0</td>\n",
       "    </tr>\n",
       "    <tr>\n",
       "      <th>3</th>\n",
       "      <td>NaN</td>\n",
       "      <td>Andorra</td>\n",
       "      <td>42.506300</td>\n",
       "      <td>1.521800</td>\n",
       "      <td>1/22/20</td>\n",
       "      <td>0</td>\n",
       "      <td>0</td>\n",
       "      <td>0</td>\n",
       "    </tr>\n",
       "    <tr>\n",
       "      <th>4</th>\n",
       "      <td>NaN</td>\n",
       "      <td>Angola</td>\n",
       "      <td>-11.202700</td>\n",
       "      <td>17.873900</td>\n",
       "      <td>1/22/20</td>\n",
       "      <td>0</td>\n",
       "      <td>0</td>\n",
       "      <td>0</td>\n",
       "    </tr>\n",
       "    <tr>\n",
       "      <th>...</th>\n",
       "      <td>...</td>\n",
       "      <td>...</td>\n",
       "      <td>...</td>\n",
       "      <td>...</td>\n",
       "      <td>...</td>\n",
       "      <td>...</td>\n",
       "      <td>...</td>\n",
       "      <td>...</td>\n",
       "    </tr>\n",
       "    <tr>\n",
       "      <th>27451</th>\n",
       "      <td>NaN</td>\n",
       "      <td>Western Sahara</td>\n",
       "      <td>24.215500</td>\n",
       "      <td>-12.885800</td>\n",
       "      <td>5/4/20</td>\n",
       "      <td>6</td>\n",
       "      <td>0</td>\n",
       "      <td>5</td>\n",
       "    </tr>\n",
       "    <tr>\n",
       "      <th>27452</th>\n",
       "      <td>NaN</td>\n",
       "      <td>Sao Tome and Principe</td>\n",
       "      <td>0.186360</td>\n",
       "      <td>6.613081</td>\n",
       "      <td>5/4/20</td>\n",
       "      <td>23</td>\n",
       "      <td>3</td>\n",
       "      <td>4</td>\n",
       "    </tr>\n",
       "    <tr>\n",
       "      <th>27453</th>\n",
       "      <td>NaN</td>\n",
       "      <td>Yemen</td>\n",
       "      <td>15.552727</td>\n",
       "      <td>48.516388</td>\n",
       "      <td>5/4/20</td>\n",
       "      <td>12</td>\n",
       "      <td>2</td>\n",
       "      <td>0</td>\n",
       "    </tr>\n",
       "    <tr>\n",
       "      <th>27454</th>\n",
       "      <td>NaN</td>\n",
       "      <td>Comoros</td>\n",
       "      <td>-11.645500</td>\n",
       "      <td>43.333300</td>\n",
       "      <td>5/4/20</td>\n",
       "      <td>3</td>\n",
       "      <td>0</td>\n",
       "      <td>0</td>\n",
       "    </tr>\n",
       "    <tr>\n",
       "      <th>27455</th>\n",
       "      <td>NaN</td>\n",
       "      <td>Tajikistan</td>\n",
       "      <td>38.861034</td>\n",
       "      <td>71.276093</td>\n",
       "      <td>5/4/20</td>\n",
       "      <td>230</td>\n",
       "      <td>3</td>\n",
       "      <td>0</td>\n",
       "    </tr>\n",
       "  </tbody>\n",
       "</table>\n",
       "<p>27456 rows × 8 columns</p>\n",
       "</div>"
      ],
      "text/plain": [
       "      Province/State         Country/Region        Lat       Long     Date  \\\n",
       "0                NaN            Afghanistan  33.000000  65.000000  1/22/20   \n",
       "1                NaN                Albania  41.153300  20.168300  1/22/20   \n",
       "2                NaN                Algeria  28.033900   1.659600  1/22/20   \n",
       "3                NaN                Andorra  42.506300   1.521800  1/22/20   \n",
       "4                NaN                 Angola -11.202700  17.873900  1/22/20   \n",
       "...              ...                    ...        ...        ...      ...   \n",
       "27451            NaN         Western Sahara  24.215500 -12.885800   5/4/20   \n",
       "27452            NaN  Sao Tome and Principe   0.186360   6.613081   5/4/20   \n",
       "27453            NaN                  Yemen  15.552727  48.516388   5/4/20   \n",
       "27454            NaN                Comoros -11.645500  43.333300   5/4/20   \n",
       "27455            NaN             Tajikistan  38.861034  71.276093   5/4/20   \n",
       "\n",
       "       Confirmed  Deaths  Recovered  \n",
       "0              0       0          0  \n",
       "1              0       0          0  \n",
       "2              0       0          0  \n",
       "3              0       0          0  \n",
       "4              0       0          0  \n",
       "...          ...     ...        ...  \n",
       "27451          6       0          5  \n",
       "27452         23       3          4  \n",
       "27453         12       2          0  \n",
       "27454          3       0          0  \n",
       "27455        230       3          0  \n",
       "\n",
       "[27456 rows x 8 columns]"
      ]
     },
     "execution_count": 1,
     "metadata": {},
     "output_type": "execute_result"
    }
   ],
   "source": [
    "import pandas as pd\n",
    "\n",
    "covid_data = pd.read_csv('covid_19_clean_complete.csv')\n",
    "covid_data"
   ]
  },
  {
   "cell_type": "markdown",
   "metadata": {},
   "source": [
    "De seguida, após uma análise, verificou-se a presença de entrada respeitantes a navios que nalgum momento tiveram casos de Covid-19 e não estão portanto associados a nenhum país particular.\n",
    "Além disso, consideramos que estes dados iriam criar ruído, pelo que optamos por ignorá-los e remover dos dados em análise."
   ]
  },
  {
   "cell_type": "code",
   "execution_count": 2,
   "metadata": {},
   "outputs": [
    {
     "data": {
      "text/html": [
       "<div>\n",
       "<style scoped>\n",
       "    .dataframe tbody tr th:only-of-type {\n",
       "        vertical-align: middle;\n",
       "    }\n",
       "\n",
       "    .dataframe tbody tr th {\n",
       "        vertical-align: top;\n",
       "    }\n",
       "\n",
       "    .dataframe thead th {\n",
       "        text-align: right;\n",
       "    }\n",
       "</style>\n",
       "<table border=\"1\" class=\"dataframe\">\n",
       "  <thead>\n",
       "    <tr style=\"text-align: right;\">\n",
       "      <th></th>\n",
       "      <th>Province/State</th>\n",
       "      <th>Country/Region</th>\n",
       "      <th>Lat</th>\n",
       "      <th>Long</th>\n",
       "      <th>Date</th>\n",
       "      <th>Confirmed</th>\n",
       "      <th>Deaths</th>\n",
       "      <th>Recovered</th>\n",
       "    </tr>\n",
       "  </thead>\n",
       "  <tbody>\n",
       "    <tr>\n",
       "      <th>0</th>\n",
       "      <td>NaN</td>\n",
       "      <td>Afghanistan</td>\n",
       "      <td>33.000000</td>\n",
       "      <td>65.000000</td>\n",
       "      <td>1/22/20</td>\n",
       "      <td>0</td>\n",
       "      <td>0</td>\n",
       "      <td>0</td>\n",
       "    </tr>\n",
       "    <tr>\n",
       "      <th>1</th>\n",
       "      <td>NaN</td>\n",
       "      <td>Albania</td>\n",
       "      <td>41.153300</td>\n",
       "      <td>20.168300</td>\n",
       "      <td>1/22/20</td>\n",
       "      <td>0</td>\n",
       "      <td>0</td>\n",
       "      <td>0</td>\n",
       "    </tr>\n",
       "    <tr>\n",
       "      <th>2</th>\n",
       "      <td>NaN</td>\n",
       "      <td>Algeria</td>\n",
       "      <td>28.033900</td>\n",
       "      <td>1.659600</td>\n",
       "      <td>1/22/20</td>\n",
       "      <td>0</td>\n",
       "      <td>0</td>\n",
       "      <td>0</td>\n",
       "    </tr>\n",
       "    <tr>\n",
       "      <th>3</th>\n",
       "      <td>NaN</td>\n",
       "      <td>Andorra</td>\n",
       "      <td>42.506300</td>\n",
       "      <td>1.521800</td>\n",
       "      <td>1/22/20</td>\n",
       "      <td>0</td>\n",
       "      <td>0</td>\n",
       "      <td>0</td>\n",
       "    </tr>\n",
       "    <tr>\n",
       "      <th>4</th>\n",
       "      <td>NaN</td>\n",
       "      <td>Angola</td>\n",
       "      <td>-11.202700</td>\n",
       "      <td>17.873900</td>\n",
       "      <td>1/22/20</td>\n",
       "      <td>0</td>\n",
       "      <td>0</td>\n",
       "      <td>0</td>\n",
       "    </tr>\n",
       "    <tr>\n",
       "      <th>...</th>\n",
       "      <td>...</td>\n",
       "      <td>...</td>\n",
       "      <td>...</td>\n",
       "      <td>...</td>\n",
       "      <td>...</td>\n",
       "      <td>...</td>\n",
       "      <td>...</td>\n",
       "      <td>...</td>\n",
       "    </tr>\n",
       "    <tr>\n",
       "      <th>27035</th>\n",
       "      <td>NaN</td>\n",
       "      <td>Western Sahara</td>\n",
       "      <td>24.215500</td>\n",
       "      <td>-12.885800</td>\n",
       "      <td>5/4/20</td>\n",
       "      <td>6</td>\n",
       "      <td>0</td>\n",
       "      <td>5</td>\n",
       "    </tr>\n",
       "    <tr>\n",
       "      <th>27036</th>\n",
       "      <td>NaN</td>\n",
       "      <td>Sao Tome and Principe</td>\n",
       "      <td>0.186360</td>\n",
       "      <td>6.613081</td>\n",
       "      <td>5/4/20</td>\n",
       "      <td>23</td>\n",
       "      <td>3</td>\n",
       "      <td>4</td>\n",
       "    </tr>\n",
       "    <tr>\n",
       "      <th>27037</th>\n",
       "      <td>NaN</td>\n",
       "      <td>Yemen</td>\n",
       "      <td>15.552727</td>\n",
       "      <td>48.516388</td>\n",
       "      <td>5/4/20</td>\n",
       "      <td>12</td>\n",
       "      <td>2</td>\n",
       "      <td>0</td>\n",
       "    </tr>\n",
       "    <tr>\n",
       "      <th>27038</th>\n",
       "      <td>NaN</td>\n",
       "      <td>Comoros</td>\n",
       "      <td>-11.645500</td>\n",
       "      <td>43.333300</td>\n",
       "      <td>5/4/20</td>\n",
       "      <td>3</td>\n",
       "      <td>0</td>\n",
       "      <td>0</td>\n",
       "    </tr>\n",
       "    <tr>\n",
       "      <th>27039</th>\n",
       "      <td>NaN</td>\n",
       "      <td>Tajikistan</td>\n",
       "      <td>38.861034</td>\n",
       "      <td>71.276093</td>\n",
       "      <td>5/4/20</td>\n",
       "      <td>230</td>\n",
       "      <td>3</td>\n",
       "      <td>0</td>\n",
       "    </tr>\n",
       "  </tbody>\n",
       "</table>\n",
       "<p>27040 rows × 8 columns</p>\n",
       "</div>"
      ],
      "text/plain": [
       "      Province/State         Country/Region        Lat       Long     Date  \\\n",
       "0                NaN            Afghanistan  33.000000  65.000000  1/22/20   \n",
       "1                NaN                Albania  41.153300  20.168300  1/22/20   \n",
       "2                NaN                Algeria  28.033900   1.659600  1/22/20   \n",
       "3                NaN                Andorra  42.506300   1.521800  1/22/20   \n",
       "4                NaN                 Angola -11.202700  17.873900  1/22/20   \n",
       "...              ...                    ...        ...        ...      ...   \n",
       "27035            NaN         Western Sahara  24.215500 -12.885800   5/4/20   \n",
       "27036            NaN  Sao Tome and Principe   0.186360   6.613081   5/4/20   \n",
       "27037            NaN                  Yemen  15.552727  48.516388   5/4/20   \n",
       "27038            NaN                Comoros -11.645500  43.333300   5/4/20   \n",
       "27039            NaN             Tajikistan  38.861034  71.276093   5/4/20   \n",
       "\n",
       "       Confirmed  Deaths  Recovered  \n",
       "0              0       0          0  \n",
       "1              0       0          0  \n",
       "2              0       0          0  \n",
       "3              0       0          0  \n",
       "4              0       0          0  \n",
       "...          ...     ...        ...  \n",
       "27035          6       0          5  \n",
       "27036         23       3          4  \n",
       "27037         12       2          0  \n",
       "27038          3       0          0  \n",
       "27039        230       3          0  \n",
       "\n",
       "[27040 rows x 8 columns]"
      ]
     },
     "execution_count": 2,
     "metadata": {},
     "output_type": "execute_result"
    }
   ],
   "source": [
    "covid_data = covid_data.drop(covid_data[covid_data['Province/State']=='Grand Princess'].index)\n",
    "covid_data = covid_data.drop(covid_data[covid_data['Province/State']=='Diamond Princess'].index)\n",
    "covid_data = covid_data.drop(covid_data[covid_data['Country/Region']=='Diamond Princess'].index)\n",
    "covid_data = covid_data.drop(covid_data[covid_data['Country/Region']=='MS Zaandam'].index)\n",
    "covid_data = covid_data.reset_index()\n",
    "del covid_data['index']\n",
    "covid_data"
   ]
  },
  {
   "cell_type": "markdown",
   "metadata": {},
   "source": [
    "A maioria das entradas da coluna **Province/State** tem valores nulos, pelo que procedemos a eliminá-los. Além disso, como ter uma entrada para uma região e país não é muito relevante, optamos por agregar as duas informações numa só coluna denominada de **Local**."
   ]
  },
  {
   "cell_type": "code",
   "execution_count": 3,
   "metadata": {},
   "outputs": [
    {
     "data": {
      "text/html": [
       "<div>\n",
       "<style scoped>\n",
       "    .dataframe tbody tr th:only-of-type {\n",
       "        vertical-align: middle;\n",
       "    }\n",
       "\n",
       "    .dataframe tbody tr th {\n",
       "        vertical-align: top;\n",
       "    }\n",
       "\n",
       "    .dataframe thead th {\n",
       "        text-align: right;\n",
       "    }\n",
       "</style>\n",
       "<table border=\"1\" class=\"dataframe\">\n",
       "  <thead>\n",
       "    <tr style=\"text-align: right;\">\n",
       "      <th></th>\n",
       "      <th>Lat</th>\n",
       "      <th>Long</th>\n",
       "      <th>Date</th>\n",
       "      <th>Confirmed</th>\n",
       "      <th>Deaths</th>\n",
       "      <th>Recovered</th>\n",
       "      <th>Local</th>\n",
       "    </tr>\n",
       "  </thead>\n",
       "  <tbody>\n",
       "    <tr>\n",
       "      <th>0</th>\n",
       "      <td>33.000000</td>\n",
       "      <td>65.000000</td>\n",
       "      <td>1/22/20</td>\n",
       "      <td>0</td>\n",
       "      <td>0</td>\n",
       "      <td>0</td>\n",
       "      <td>Afghanistan</td>\n",
       "    </tr>\n",
       "    <tr>\n",
       "      <th>1</th>\n",
       "      <td>41.153300</td>\n",
       "      <td>20.168300</td>\n",
       "      <td>1/22/20</td>\n",
       "      <td>0</td>\n",
       "      <td>0</td>\n",
       "      <td>0</td>\n",
       "      <td>Albania</td>\n",
       "    </tr>\n",
       "    <tr>\n",
       "      <th>2</th>\n",
       "      <td>28.033900</td>\n",
       "      <td>1.659600</td>\n",
       "      <td>1/22/20</td>\n",
       "      <td>0</td>\n",
       "      <td>0</td>\n",
       "      <td>0</td>\n",
       "      <td>Algeria</td>\n",
       "    </tr>\n",
       "    <tr>\n",
       "      <th>3</th>\n",
       "      <td>42.506300</td>\n",
       "      <td>1.521800</td>\n",
       "      <td>1/22/20</td>\n",
       "      <td>0</td>\n",
       "      <td>0</td>\n",
       "      <td>0</td>\n",
       "      <td>Andorra</td>\n",
       "    </tr>\n",
       "    <tr>\n",
       "      <th>4</th>\n",
       "      <td>-11.202700</td>\n",
       "      <td>17.873900</td>\n",
       "      <td>1/22/20</td>\n",
       "      <td>0</td>\n",
       "      <td>0</td>\n",
       "      <td>0</td>\n",
       "      <td>Angola</td>\n",
       "    </tr>\n",
       "    <tr>\n",
       "      <th>...</th>\n",
       "      <td>...</td>\n",
       "      <td>...</td>\n",
       "      <td>...</td>\n",
       "      <td>...</td>\n",
       "      <td>...</td>\n",
       "      <td>...</td>\n",
       "      <td>...</td>\n",
       "    </tr>\n",
       "    <tr>\n",
       "      <th>27035</th>\n",
       "      <td>24.215500</td>\n",
       "      <td>-12.885800</td>\n",
       "      <td>5/4/20</td>\n",
       "      <td>6</td>\n",
       "      <td>0</td>\n",
       "      <td>5</td>\n",
       "      <td>Western Sahara</td>\n",
       "    </tr>\n",
       "    <tr>\n",
       "      <th>27036</th>\n",
       "      <td>0.186360</td>\n",
       "      <td>6.613081</td>\n",
       "      <td>5/4/20</td>\n",
       "      <td>23</td>\n",
       "      <td>3</td>\n",
       "      <td>4</td>\n",
       "      <td>Sao Tome and Principe</td>\n",
       "    </tr>\n",
       "    <tr>\n",
       "      <th>27037</th>\n",
       "      <td>15.552727</td>\n",
       "      <td>48.516388</td>\n",
       "      <td>5/4/20</td>\n",
       "      <td>12</td>\n",
       "      <td>2</td>\n",
       "      <td>0</td>\n",
       "      <td>Yemen</td>\n",
       "    </tr>\n",
       "    <tr>\n",
       "      <th>27038</th>\n",
       "      <td>-11.645500</td>\n",
       "      <td>43.333300</td>\n",
       "      <td>5/4/20</td>\n",
       "      <td>3</td>\n",
       "      <td>0</td>\n",
       "      <td>0</td>\n",
       "      <td>Comoros</td>\n",
       "    </tr>\n",
       "    <tr>\n",
       "      <th>27039</th>\n",
       "      <td>38.861034</td>\n",
       "      <td>71.276093</td>\n",
       "      <td>5/4/20</td>\n",
       "      <td>230</td>\n",
       "      <td>3</td>\n",
       "      <td>0</td>\n",
       "      <td>Tajikistan</td>\n",
       "    </tr>\n",
       "  </tbody>\n",
       "</table>\n",
       "<p>27040 rows × 7 columns</p>\n",
       "</div>"
      ],
      "text/plain": [
       "             Lat       Long     Date  Confirmed  Deaths  Recovered  \\\n",
       "0      33.000000  65.000000  1/22/20          0       0          0   \n",
       "1      41.153300  20.168300  1/22/20          0       0          0   \n",
       "2      28.033900   1.659600  1/22/20          0       0          0   \n",
       "3      42.506300   1.521800  1/22/20          0       0          0   \n",
       "4     -11.202700  17.873900  1/22/20          0       0          0   \n",
       "...          ...        ...      ...        ...     ...        ...   \n",
       "27035  24.215500 -12.885800   5/4/20          6       0          5   \n",
       "27036   0.186360   6.613081   5/4/20         23       3          4   \n",
       "27037  15.552727  48.516388   5/4/20         12       2          0   \n",
       "27038 -11.645500  43.333300   5/4/20          3       0          0   \n",
       "27039  38.861034  71.276093   5/4/20        230       3          0   \n",
       "\n",
       "                       Local  \n",
       "0                Afghanistan  \n",
       "1                    Albania  \n",
       "2                    Algeria  \n",
       "3                    Andorra  \n",
       "4                     Angola  \n",
       "...                      ...  \n",
       "27035         Western Sahara  \n",
       "27036  Sao Tome and Principe  \n",
       "27037                  Yemen  \n",
       "27038                Comoros  \n",
       "27039             Tajikistan  \n",
       "\n",
       "[27040 rows x 7 columns]"
      ]
     },
     "execution_count": 3,
     "metadata": {},
     "output_type": "execute_result"
    }
   ],
   "source": [
    "import numpy as np\n",
    "\n",
    "covid_data['Province/State'] = covid_data.replace(np.nan, '', regex=True)\n",
    "cols = ['Province/State', 'Country/Region']\n",
    "covid_data['Local'] = covid_data[cols].apply(lambda row: ' / '.join(row.values.astype(str)) if row.values[0] != '' else ''.join(row.values.astype(str)), axis=1)\n",
    "del covid_data['Province/State']\n",
    "del covid_data['Country/Region']\n",
    "covid_data"
   ]
  },
  {
   "cell_type": "markdown",
   "metadata": {},
   "source": [
    "De seguida, vamos converter as datas em contagem de dias desde o início do dataset (22 de janeiro de 2020)"
   ]
  },
  {
   "cell_type": "code",
   "execution_count": 4,
   "metadata": {},
   "outputs": [
    {
     "data": {
      "text/html": [
       "<div>\n",
       "<style scoped>\n",
       "    .dataframe tbody tr th:only-of-type {\n",
       "        vertical-align: middle;\n",
       "    }\n",
       "\n",
       "    .dataframe tbody tr th {\n",
       "        vertical-align: top;\n",
       "    }\n",
       "\n",
       "    .dataframe thead th {\n",
       "        text-align: right;\n",
       "    }\n",
       "</style>\n",
       "<table border=\"1\" class=\"dataframe\">\n",
       "  <thead>\n",
       "    <tr style=\"text-align: right;\">\n",
       "      <th></th>\n",
       "      <th>Lat</th>\n",
       "      <th>Long</th>\n",
       "      <th>Days Passed</th>\n",
       "      <th>Confirmed</th>\n",
       "      <th>Deaths</th>\n",
       "      <th>Recovered</th>\n",
       "      <th>Local</th>\n",
       "    </tr>\n",
       "  </thead>\n",
       "  <tbody>\n",
       "    <tr>\n",
       "      <th>0</th>\n",
       "      <td>33.000000</td>\n",
       "      <td>65.000000</td>\n",
       "      <td>0.0</td>\n",
       "      <td>0</td>\n",
       "      <td>0</td>\n",
       "      <td>0</td>\n",
       "      <td>Afghanistan</td>\n",
       "    </tr>\n",
       "    <tr>\n",
       "      <th>1</th>\n",
       "      <td>41.153300</td>\n",
       "      <td>20.168300</td>\n",
       "      <td>0.0</td>\n",
       "      <td>0</td>\n",
       "      <td>0</td>\n",
       "      <td>0</td>\n",
       "      <td>Albania</td>\n",
       "    </tr>\n",
       "    <tr>\n",
       "      <th>2</th>\n",
       "      <td>28.033900</td>\n",
       "      <td>1.659600</td>\n",
       "      <td>0.0</td>\n",
       "      <td>0</td>\n",
       "      <td>0</td>\n",
       "      <td>0</td>\n",
       "      <td>Algeria</td>\n",
       "    </tr>\n",
       "    <tr>\n",
       "      <th>3</th>\n",
       "      <td>42.506300</td>\n",
       "      <td>1.521800</td>\n",
       "      <td>0.0</td>\n",
       "      <td>0</td>\n",
       "      <td>0</td>\n",
       "      <td>0</td>\n",
       "      <td>Andorra</td>\n",
       "    </tr>\n",
       "    <tr>\n",
       "      <th>4</th>\n",
       "      <td>-11.202700</td>\n",
       "      <td>17.873900</td>\n",
       "      <td>0.0</td>\n",
       "      <td>0</td>\n",
       "      <td>0</td>\n",
       "      <td>0</td>\n",
       "      <td>Angola</td>\n",
       "    </tr>\n",
       "    <tr>\n",
       "      <th>...</th>\n",
       "      <td>...</td>\n",
       "      <td>...</td>\n",
       "      <td>...</td>\n",
       "      <td>...</td>\n",
       "      <td>...</td>\n",
       "      <td>...</td>\n",
       "      <td>...</td>\n",
       "    </tr>\n",
       "    <tr>\n",
       "      <th>27035</th>\n",
       "      <td>24.215500</td>\n",
       "      <td>-12.885800</td>\n",
       "      <td>103.0</td>\n",
       "      <td>6</td>\n",
       "      <td>0</td>\n",
       "      <td>5</td>\n",
       "      <td>Western Sahara</td>\n",
       "    </tr>\n",
       "    <tr>\n",
       "      <th>27036</th>\n",
       "      <td>0.186360</td>\n",
       "      <td>6.613081</td>\n",
       "      <td>103.0</td>\n",
       "      <td>23</td>\n",
       "      <td>3</td>\n",
       "      <td>4</td>\n",
       "      <td>Sao Tome and Principe</td>\n",
       "    </tr>\n",
       "    <tr>\n",
       "      <th>27037</th>\n",
       "      <td>15.552727</td>\n",
       "      <td>48.516388</td>\n",
       "      <td>103.0</td>\n",
       "      <td>12</td>\n",
       "      <td>2</td>\n",
       "      <td>0</td>\n",
       "      <td>Yemen</td>\n",
       "    </tr>\n",
       "    <tr>\n",
       "      <th>27038</th>\n",
       "      <td>-11.645500</td>\n",
       "      <td>43.333300</td>\n",
       "      <td>103.0</td>\n",
       "      <td>3</td>\n",
       "      <td>0</td>\n",
       "      <td>0</td>\n",
       "      <td>Comoros</td>\n",
       "    </tr>\n",
       "    <tr>\n",
       "      <th>27039</th>\n",
       "      <td>38.861034</td>\n",
       "      <td>71.276093</td>\n",
       "      <td>103.0</td>\n",
       "      <td>230</td>\n",
       "      <td>3</td>\n",
       "      <td>0</td>\n",
       "      <td>Tajikistan</td>\n",
       "    </tr>\n",
       "  </tbody>\n",
       "</table>\n",
       "<p>27040 rows × 7 columns</p>\n",
       "</div>"
      ],
      "text/plain": [
       "             Lat       Long  Days Passed  Confirmed  Deaths  Recovered  \\\n",
       "0      33.000000  65.000000          0.0          0       0          0   \n",
       "1      41.153300  20.168300          0.0          0       0          0   \n",
       "2      28.033900   1.659600          0.0          0       0          0   \n",
       "3      42.506300   1.521800          0.0          0       0          0   \n",
       "4     -11.202700  17.873900          0.0          0       0          0   \n",
       "...          ...        ...          ...        ...     ...        ...   \n",
       "27035  24.215500 -12.885800        103.0          6       0          5   \n",
       "27036   0.186360   6.613081        103.0         23       3          4   \n",
       "27037  15.552727  48.516388        103.0         12       2          0   \n",
       "27038 -11.645500  43.333300        103.0          3       0          0   \n",
       "27039  38.861034  71.276093        103.0        230       3          0   \n",
       "\n",
       "                       Local  \n",
       "0                Afghanistan  \n",
       "1                    Albania  \n",
       "2                    Algeria  \n",
       "3                    Andorra  \n",
       "4                     Angola  \n",
       "...                      ...  \n",
       "27035         Western Sahara  \n",
       "27036  Sao Tome and Principe  \n",
       "27037                  Yemen  \n",
       "27038                Comoros  \n",
       "27039             Tajikistan  \n",
       "\n",
       "[27040 rows x 7 columns]"
      ]
     },
     "execution_count": 4,
     "metadata": {},
     "output_type": "execute_result"
    }
   ],
   "source": [
    "covid_data['Date'] = pd.to_datetime(covid_data['Date'],format='%m/%d/%y')\n",
    "covid_data['Date'] -= pd.to_datetime(\"2020-01-22\")\n",
    "covid_data['Date'] /= np.timedelta64(1,'D')\n",
    "covid_data = covid_data.rename(columns  = {'Date':'Days Passed'})\n",
    "covid_data"
   ]
  },
  {
   "cell_type": "markdown",
   "metadata": {},
   "source": [
    "Por fim, adicionar as colunas da contagem do dia anterior. Este passo é um pouco mais longo tendo em conta o numero de linhas e a procura pelo valor anterior."
   ]
  },
  {
   "cell_type": "code",
   "execution_count": 5,
   "metadata": {},
   "outputs": [
    {
     "data": {
      "text/html": [
       "<div>\n",
       "<style scoped>\n",
       "    .dataframe tbody tr th:only-of-type {\n",
       "        vertical-align: middle;\n",
       "    }\n",
       "\n",
       "    .dataframe tbody tr th {\n",
       "        vertical-align: top;\n",
       "    }\n",
       "\n",
       "    .dataframe thead th {\n",
       "        text-align: right;\n",
       "    }\n",
       "</style>\n",
       "<table border=\"1\" class=\"dataframe\">\n",
       "  <thead>\n",
       "    <tr style=\"text-align: right;\">\n",
       "      <th></th>\n",
       "      <th>Lat</th>\n",
       "      <th>Long</th>\n",
       "      <th>Days Passed</th>\n",
       "      <th>Confirmed</th>\n",
       "      <th>Deaths</th>\n",
       "      <th>Recovered</th>\n",
       "      <th>Local</th>\n",
       "      <th>Conf. Prev.</th>\n",
       "      <th>Deaths Prev.</th>\n",
       "      <th>Recov. Prev.</th>\n",
       "    </tr>\n",
       "  </thead>\n",
       "  <tbody>\n",
       "    <tr>\n",
       "      <th>0</th>\n",
       "      <td>33.000000</td>\n",
       "      <td>65.000000</td>\n",
       "      <td>0.0</td>\n",
       "      <td>0</td>\n",
       "      <td>0</td>\n",
       "      <td>0</td>\n",
       "      <td>Afghanistan</td>\n",
       "      <td>0</td>\n",
       "      <td>0</td>\n",
       "      <td>0</td>\n",
       "    </tr>\n",
       "    <tr>\n",
       "      <th>1</th>\n",
       "      <td>41.153300</td>\n",
       "      <td>20.168300</td>\n",
       "      <td>0.0</td>\n",
       "      <td>0</td>\n",
       "      <td>0</td>\n",
       "      <td>0</td>\n",
       "      <td>Albania</td>\n",
       "      <td>0</td>\n",
       "      <td>0</td>\n",
       "      <td>0</td>\n",
       "    </tr>\n",
       "    <tr>\n",
       "      <th>2</th>\n",
       "      <td>28.033900</td>\n",
       "      <td>1.659600</td>\n",
       "      <td>0.0</td>\n",
       "      <td>0</td>\n",
       "      <td>0</td>\n",
       "      <td>0</td>\n",
       "      <td>Algeria</td>\n",
       "      <td>0</td>\n",
       "      <td>0</td>\n",
       "      <td>0</td>\n",
       "    </tr>\n",
       "    <tr>\n",
       "      <th>3</th>\n",
       "      <td>42.506300</td>\n",
       "      <td>1.521800</td>\n",
       "      <td>0.0</td>\n",
       "      <td>0</td>\n",
       "      <td>0</td>\n",
       "      <td>0</td>\n",
       "      <td>Andorra</td>\n",
       "      <td>0</td>\n",
       "      <td>0</td>\n",
       "      <td>0</td>\n",
       "    </tr>\n",
       "    <tr>\n",
       "      <th>4</th>\n",
       "      <td>-11.202700</td>\n",
       "      <td>17.873900</td>\n",
       "      <td>0.0</td>\n",
       "      <td>0</td>\n",
       "      <td>0</td>\n",
       "      <td>0</td>\n",
       "      <td>Angola</td>\n",
       "      <td>0</td>\n",
       "      <td>0</td>\n",
       "      <td>0</td>\n",
       "    </tr>\n",
       "    <tr>\n",
       "      <th>...</th>\n",
       "      <td>...</td>\n",
       "      <td>...</td>\n",
       "      <td>...</td>\n",
       "      <td>...</td>\n",
       "      <td>...</td>\n",
       "      <td>...</td>\n",
       "      <td>...</td>\n",
       "      <td>...</td>\n",
       "      <td>...</td>\n",
       "      <td>...</td>\n",
       "    </tr>\n",
       "    <tr>\n",
       "      <th>27035</th>\n",
       "      <td>24.215500</td>\n",
       "      <td>-12.885800</td>\n",
       "      <td>103.0</td>\n",
       "      <td>6</td>\n",
       "      <td>0</td>\n",
       "      <td>5</td>\n",
       "      <td>Western Sahara</td>\n",
       "      <td>6</td>\n",
       "      <td>0</td>\n",
       "      <td>5</td>\n",
       "    </tr>\n",
       "    <tr>\n",
       "      <th>27036</th>\n",
       "      <td>0.186360</td>\n",
       "      <td>6.613081</td>\n",
       "      <td>103.0</td>\n",
       "      <td>23</td>\n",
       "      <td>3</td>\n",
       "      <td>4</td>\n",
       "      <td>Sao Tome and Principe</td>\n",
       "      <td>16</td>\n",
       "      <td>1</td>\n",
       "      <td>4</td>\n",
       "    </tr>\n",
       "    <tr>\n",
       "      <th>27037</th>\n",
       "      <td>15.552727</td>\n",
       "      <td>48.516388</td>\n",
       "      <td>103.0</td>\n",
       "      <td>12</td>\n",
       "      <td>2</td>\n",
       "      <td>0</td>\n",
       "      <td>Yemen</td>\n",
       "      <td>10</td>\n",
       "      <td>2</td>\n",
       "      <td>0</td>\n",
       "    </tr>\n",
       "    <tr>\n",
       "      <th>27038</th>\n",
       "      <td>-11.645500</td>\n",
       "      <td>43.333300</td>\n",
       "      <td>103.0</td>\n",
       "      <td>3</td>\n",
       "      <td>0</td>\n",
       "      <td>0</td>\n",
       "      <td>Comoros</td>\n",
       "      <td>3</td>\n",
       "      <td>0</td>\n",
       "      <td>0</td>\n",
       "    </tr>\n",
       "    <tr>\n",
       "      <th>27039</th>\n",
       "      <td>38.861034</td>\n",
       "      <td>71.276093</td>\n",
       "      <td>103.0</td>\n",
       "      <td>230</td>\n",
       "      <td>3</td>\n",
       "      <td>0</td>\n",
       "      <td>Tajikistan</td>\n",
       "      <td>128</td>\n",
       "      <td>2</td>\n",
       "      <td>0</td>\n",
       "    </tr>\n",
       "  </tbody>\n",
       "</table>\n",
       "<p>27040 rows × 10 columns</p>\n",
       "</div>"
      ],
      "text/plain": [
       "             Lat       Long  Days Passed  Confirmed  Deaths  Recovered  \\\n",
       "0      33.000000  65.000000          0.0          0       0          0   \n",
       "1      41.153300  20.168300          0.0          0       0          0   \n",
       "2      28.033900   1.659600          0.0          0       0          0   \n",
       "3      42.506300   1.521800          0.0          0       0          0   \n",
       "4     -11.202700  17.873900          0.0          0       0          0   \n",
       "...          ...        ...          ...        ...     ...        ...   \n",
       "27035  24.215500 -12.885800        103.0          6       0          5   \n",
       "27036   0.186360   6.613081        103.0         23       3          4   \n",
       "27037  15.552727  48.516388        103.0         12       2          0   \n",
       "27038 -11.645500  43.333300        103.0          3       0          0   \n",
       "27039  38.861034  71.276093        103.0        230       3          0   \n",
       "\n",
       "                       Local  Conf. Prev.  Deaths Prev.  Recov. Prev.  \n",
       "0                Afghanistan            0             0             0  \n",
       "1                    Albania            0             0             0  \n",
       "2                    Algeria            0             0             0  \n",
       "3                    Andorra            0             0             0  \n",
       "4                     Angola            0             0             0  \n",
       "...                      ...          ...           ...           ...  \n",
       "27035         Western Sahara            6             0             5  \n",
       "27036  Sao Tome and Principe           16             1             4  \n",
       "27037                  Yemen           10             2             0  \n",
       "27038                Comoros            3             0             0  \n",
       "27039             Tajikistan          128             2             0  \n",
       "\n",
       "[27040 rows x 10 columns]"
      ]
     },
     "execution_count": 5,
     "metadata": {},
     "output_type": "execute_result"
    }
   ],
   "source": [
    "covid_data['Conf. Prev.'] = covid_data.apply(lambda row: \n",
    "                                                      covid_data[(covid_data['Local'] == row['Local']) & (covid_data['Days Passed'] == row['Days Passed']-1)]['Confirmed'].item()\n",
    "                                                      if row['Days Passed'] > 0 else 0,axis=1)\n",
    "covid_data['Deaths Prev.'] = covid_data.apply(lambda row: \n",
    "                                                      covid_data[(covid_data['Local'] == row['Local']) & (covid_data['Days Passed'] == row['Days Passed']-1)]['Deaths'].item()\n",
    "                                                      if row['Days Passed'] > 0 else 0,axis=1)\n",
    "covid_data['Recov. Prev.'] = covid_data.apply(lambda row: \n",
    "                                                      covid_data[(covid_data['Local'] == row['Local']) & (covid_data['Days Passed'] == row['Days Passed']-1)]['Recovered'].item()\n",
    "                                                      if row['Days Passed'] > 0 else 0,axis=1)\n",
    "covid_data"
   ]
  },
  {
   "cell_type": "code",
   "execution_count": 6,
   "metadata": {},
   "outputs": [],
   "source": [
    "with pd.ExcelWriter('covid_19_distance.xlsx') as writer:\n",
    "    covid_data.to_excel(writer)"
   ]
  },
  {
   "cell_type": "markdown",
   "metadata": {},
   "source": [
    "## SVR"
   ]
  },
  {
   "cell_type": "markdown",
   "metadata": {},
   "source": [
    "**Support Vector Regression** utiliza conceitos semelhantes aos aplicados no algoritmo de Support Vector Machine para aplicações em métodos de regressão.\n",
    "\n",
    "Deste modo serão expostos alguns conceitos teóricos fundamentais para que se possa compreender este algoritmo:\n",
    "-  **Hyper Plane** : Uma linha de separação que irá ajudar a prever os valores em causa.\n",
    "-   **Boundary line** : Margens da hyperplane que separam os valores existentes.\n",
    "-  **Support vectors** : Os pontos mais perto da \"boundary line\". A distância dos pontos é a minima.\n",
    "    \n",
    "Assim, neste algoritmo o objetivo é considerar os valores dentro da margem, ou seja aqueles com menor erro entre eles. Assim o objetivo é descobrir um hyper plain que mais se aproxime aos valores existentes, ou seja, que se tenha uma distância minima a um maior número destes pontos.\n",
    "\n",
    "Desta forma a aplicação deste algoritmo vai ser feita auxiliando-nos da implementação presente na ferramenta scikit-learn. \n",
    "\n",
    "### Support Vector Regression\n",
    "\n",
    "#### Parâmetros da pesquisa\n",
    "\n",
    "Serão refer\n",
    "\n",
    "   * **kernel** : rbf, sigmod foi implementado o default uma vez que a obtenção de resultados era muito superior às restantes opções\n",
    "   * **epsilonfloat**: 0.1 e 0.2 - o valor associado ao valor da distância entre a \"boundary line\" e o \"hyper plane\"\n",
    "   * **cache size**: 500 - permite diminuir o tempo de execução \n",
    "   * **C** : 1 uma vez que os dados com que trabalhamos não tem muito ruído"
   ]
  },
  {
   "cell_type": "code",
   "execution_count": 7,
   "metadata": {},
   "outputs": [],
   "source": [
    "from sklearn.svm import SVR"
   ]
  },
  {
   "cell_type": "code",
   "execution_count": 8,
   "metadata": {},
   "outputs": [
    {
     "data": {
      "text/html": [
       "<div>\n",
       "<style scoped>\n",
       "    .dataframe tbody tr th:only-of-type {\n",
       "        vertical-align: middle;\n",
       "    }\n",
       "\n",
       "    .dataframe tbody tr th {\n",
       "        vertical-align: top;\n",
       "    }\n",
       "\n",
       "    .dataframe thead th {\n",
       "        text-align: right;\n",
       "    }\n",
       "</style>\n",
       "<table border=\"1\" class=\"dataframe\">\n",
       "  <thead>\n",
       "    <tr style=\"text-align: right;\">\n",
       "      <th></th>\n",
       "      <th>Lat</th>\n",
       "      <th>Long</th>\n",
       "      <th>Days Passed</th>\n",
       "      <th>Confirmed</th>\n",
       "      <th>Deaths</th>\n",
       "      <th>Recovered</th>\n",
       "      <th>Local</th>\n",
       "      <th>Conf. Prev.</th>\n",
       "      <th>Deaths Prev.</th>\n",
       "      <th>Recov. Prev.</th>\n",
       "    </tr>\n",
       "  </thead>\n",
       "  <tbody>\n",
       "    <tr>\n",
       "      <th>0</th>\n",
       "      <td>33.000000</td>\n",
       "      <td>65.000000</td>\n",
       "      <td>0.0</td>\n",
       "      <td>0</td>\n",
       "      <td>0</td>\n",
       "      <td>0</td>\n",
       "      <td>Afghanistan</td>\n",
       "      <td>0</td>\n",
       "      <td>0</td>\n",
       "      <td>0</td>\n",
       "    </tr>\n",
       "    <tr>\n",
       "      <th>1</th>\n",
       "      <td>41.153300</td>\n",
       "      <td>20.168300</td>\n",
       "      <td>0.0</td>\n",
       "      <td>0</td>\n",
       "      <td>0</td>\n",
       "      <td>0</td>\n",
       "      <td>Albania</td>\n",
       "      <td>0</td>\n",
       "      <td>0</td>\n",
       "      <td>0</td>\n",
       "    </tr>\n",
       "    <tr>\n",
       "      <th>2</th>\n",
       "      <td>28.033900</td>\n",
       "      <td>1.659600</td>\n",
       "      <td>0.0</td>\n",
       "      <td>0</td>\n",
       "      <td>0</td>\n",
       "      <td>0</td>\n",
       "      <td>Algeria</td>\n",
       "      <td>0</td>\n",
       "      <td>0</td>\n",
       "      <td>0</td>\n",
       "    </tr>\n",
       "    <tr>\n",
       "      <th>3</th>\n",
       "      <td>42.506300</td>\n",
       "      <td>1.521800</td>\n",
       "      <td>0.0</td>\n",
       "      <td>0</td>\n",
       "      <td>0</td>\n",
       "      <td>0</td>\n",
       "      <td>Andorra</td>\n",
       "      <td>0</td>\n",
       "      <td>0</td>\n",
       "      <td>0</td>\n",
       "    </tr>\n",
       "    <tr>\n",
       "      <th>4</th>\n",
       "      <td>-11.202700</td>\n",
       "      <td>17.873900</td>\n",
       "      <td>0.0</td>\n",
       "      <td>0</td>\n",
       "      <td>0</td>\n",
       "      <td>0</td>\n",
       "      <td>Angola</td>\n",
       "      <td>0</td>\n",
       "      <td>0</td>\n",
       "      <td>0</td>\n",
       "    </tr>\n",
       "    <tr>\n",
       "      <th>...</th>\n",
       "      <td>...</td>\n",
       "      <td>...</td>\n",
       "      <td>...</td>\n",
       "      <td>...</td>\n",
       "      <td>...</td>\n",
       "      <td>...</td>\n",
       "      <td>...</td>\n",
       "      <td>...</td>\n",
       "      <td>...</td>\n",
       "      <td>...</td>\n",
       "    </tr>\n",
       "    <tr>\n",
       "      <th>27035</th>\n",
       "      <td>24.215500</td>\n",
       "      <td>-12.885800</td>\n",
       "      <td>103.0</td>\n",
       "      <td>6</td>\n",
       "      <td>0</td>\n",
       "      <td>5</td>\n",
       "      <td>Western Sahara</td>\n",
       "      <td>6</td>\n",
       "      <td>0</td>\n",
       "      <td>5</td>\n",
       "    </tr>\n",
       "    <tr>\n",
       "      <th>27036</th>\n",
       "      <td>0.186360</td>\n",
       "      <td>6.613081</td>\n",
       "      <td>103.0</td>\n",
       "      <td>23</td>\n",
       "      <td>3</td>\n",
       "      <td>4</td>\n",
       "      <td>Sao Tome and Principe</td>\n",
       "      <td>16</td>\n",
       "      <td>1</td>\n",
       "      <td>4</td>\n",
       "    </tr>\n",
       "    <tr>\n",
       "      <th>27037</th>\n",
       "      <td>15.552727</td>\n",
       "      <td>48.516388</td>\n",
       "      <td>103.0</td>\n",
       "      <td>12</td>\n",
       "      <td>2</td>\n",
       "      <td>0</td>\n",
       "      <td>Yemen</td>\n",
       "      <td>10</td>\n",
       "      <td>2</td>\n",
       "      <td>0</td>\n",
       "    </tr>\n",
       "    <tr>\n",
       "      <th>27038</th>\n",
       "      <td>-11.645500</td>\n",
       "      <td>43.333300</td>\n",
       "      <td>103.0</td>\n",
       "      <td>3</td>\n",
       "      <td>0</td>\n",
       "      <td>0</td>\n",
       "      <td>Comoros</td>\n",
       "      <td>3</td>\n",
       "      <td>0</td>\n",
       "      <td>0</td>\n",
       "    </tr>\n",
       "    <tr>\n",
       "      <th>27039</th>\n",
       "      <td>38.861034</td>\n",
       "      <td>71.276093</td>\n",
       "      <td>103.0</td>\n",
       "      <td>230</td>\n",
       "      <td>3</td>\n",
       "      <td>0</td>\n",
       "      <td>Tajikistan</td>\n",
       "      <td>128</td>\n",
       "      <td>2</td>\n",
       "      <td>0</td>\n",
       "    </tr>\n",
       "  </tbody>\n",
       "</table>\n",
       "<p>27040 rows × 10 columns</p>\n",
       "</div>"
      ],
      "text/plain": [
       "             Lat       Long  Days Passed  Confirmed  Deaths  Recovered  \\\n",
       "0      33.000000  65.000000          0.0          0       0          0   \n",
       "1      41.153300  20.168300          0.0          0       0          0   \n",
       "2      28.033900   1.659600          0.0          0       0          0   \n",
       "3      42.506300   1.521800          0.0          0       0          0   \n",
       "4     -11.202700  17.873900          0.0          0       0          0   \n",
       "...          ...        ...          ...        ...     ...        ...   \n",
       "27035  24.215500 -12.885800        103.0          6       0          5   \n",
       "27036   0.186360   6.613081        103.0         23       3          4   \n",
       "27037  15.552727  48.516388        103.0         12       2          0   \n",
       "27038 -11.645500  43.333300        103.0          3       0          0   \n",
       "27039  38.861034  71.276093        103.0        230       3          0   \n",
       "\n",
       "                       Local  Conf. Prev.  Deaths Prev.  Recov. Prev.  \n",
       "0                Afghanistan            0             0             0  \n",
       "1                    Albania            0             0             0  \n",
       "2                    Algeria            0             0             0  \n",
       "3                    Andorra            0             0             0  \n",
       "4                     Angola            0             0             0  \n",
       "...                      ...          ...           ...           ...  \n",
       "27035         Western Sahara            6             0             5  \n",
       "27036  Sao Tome and Principe           16             1             4  \n",
       "27037                  Yemen           10             2             0  \n",
       "27038                Comoros            3             0             0  \n",
       "27039             Tajikistan          128             2             0  \n",
       "\n",
       "[27040 rows x 10 columns]"
      ]
     },
     "execution_count": 8,
     "metadata": {},
     "output_type": "execute_result"
    }
   ],
   "source": [
    "covid_data"
   ]
  },
  {
   "cell_type": "markdown",
   "metadata": {},
   "source": [
    "De forma semelhante ao algoritmo anterior procedemos à criação de sets para podermos treinar o nosso modelo, e por fim testá-lo."
   ]
  },
  {
   "cell_type": "code",
   "execution_count": 9,
   "metadata": {},
   "outputs": [
    {
     "data": {
      "text/html": [
       "<div>\n",
       "<style scoped>\n",
       "    .dataframe tbody tr th:only-of-type {\n",
       "        vertical-align: middle;\n",
       "    }\n",
       "\n",
       "    .dataframe tbody tr th {\n",
       "        vertical-align: top;\n",
       "    }\n",
       "\n",
       "    .dataframe thead th {\n",
       "        text-align: right;\n",
       "    }\n",
       "</style>\n",
       "<table border=\"1\" class=\"dataframe\">\n",
       "  <thead>\n",
       "    <tr style=\"text-align: right;\">\n",
       "      <th></th>\n",
       "      <th>Lat</th>\n",
       "      <th>Long</th>\n",
       "      <th>Days Passed</th>\n",
       "      <th>Confirmed</th>\n",
       "      <th>Deaths</th>\n",
       "      <th>Recovered</th>\n",
       "      <th>Local</th>\n",
       "      <th>Conf. Prev.</th>\n",
       "      <th>Deaths Prev.</th>\n",
       "      <th>Recov. Prev.</th>\n",
       "    </tr>\n",
       "  </thead>\n",
       "  <tbody>\n",
       "    <tr>\n",
       "      <th>1816</th>\n",
       "      <td>0.186360</td>\n",
       "      <td>6.613081</td>\n",
       "      <td>6.0</td>\n",
       "      <td>0</td>\n",
       "      <td>0</td>\n",
       "      <td>0</td>\n",
       "      <td>Sao Tome and Principe</td>\n",
       "      <td>0</td>\n",
       "      <td>0</td>\n",
       "      <td>0</td>\n",
       "    </tr>\n",
       "    <tr>\n",
       "      <th>20196</th>\n",
       "      <td>8.538000</td>\n",
       "      <td>-80.782100</td>\n",
       "      <td>77.0</td>\n",
       "      <td>2249</td>\n",
       "      <td>59</td>\n",
       "      <td>16</td>\n",
       "      <td>Panama</td>\n",
       "      <td>2100</td>\n",
       "      <td>55</td>\n",
       "      <td>14</td>\n",
       "    </tr>\n",
       "    <tr>\n",
       "      <th>20562</th>\n",
       "      <td>53.709800</td>\n",
       "      <td>27.953400</td>\n",
       "      <td>79.0</td>\n",
       "      <td>1981</td>\n",
       "      <td>19</td>\n",
       "      <td>169</td>\n",
       "      <td>Belarus</td>\n",
       "      <td>1486</td>\n",
       "      <td>16</td>\n",
       "      <td>139</td>\n",
       "    </tr>\n",
       "    <tr>\n",
       "      <th>18737</th>\n",
       "      <td>40.143100</td>\n",
       "      <td>47.576900</td>\n",
       "      <td>72.0</td>\n",
       "      <td>443</td>\n",
       "      <td>5</td>\n",
       "      <td>32</td>\n",
       "      <td>Azerbaijan</td>\n",
       "      <td>400</td>\n",
       "      <td>5</td>\n",
       "      <td>26</td>\n",
       "    </tr>\n",
       "    <tr>\n",
       "      <th>6712</th>\n",
       "      <td>1.000000</td>\n",
       "      <td>32.000000</td>\n",
       "      <td>25.0</td>\n",
       "      <td>0</td>\n",
       "      <td>0</td>\n",
       "      <td>0</td>\n",
       "      <td>Uganda</td>\n",
       "      <td>0</td>\n",
       "      <td>0</td>\n",
       "      <td>0</td>\n",
       "    </tr>\n",
       "    <tr>\n",
       "      <th>...</th>\n",
       "      <td>...</td>\n",
       "      <td>...</td>\n",
       "      <td>...</td>\n",
       "      <td>...</td>\n",
       "      <td>...</td>\n",
       "      <td>...</td>\n",
       "      <td>...</td>\n",
       "      <td>...</td>\n",
       "      <td>...</td>\n",
       "      <td>...</td>\n",
       "    </tr>\n",
       "    <tr>\n",
       "      <th>13641</th>\n",
       "      <td>15.783500</td>\n",
       "      <td>-90.230800</td>\n",
       "      <td>52.0</td>\n",
       "      <td>1</td>\n",
       "      <td>0</td>\n",
       "      <td>0</td>\n",
       "      <td>Guatemala</td>\n",
       "      <td>0</td>\n",
       "      <td>0</td>\n",
       "      <td>0</td>\n",
       "    </tr>\n",
       "    <tr>\n",
       "      <th>26975</th>\n",
       "      <td>48.669000</td>\n",
       "      <td>19.699000</td>\n",
       "      <td>103.0</td>\n",
       "      <td>1413</td>\n",
       "      <td>25</td>\n",
       "      <td>643</td>\n",
       "      <td>Slovakia</td>\n",
       "      <td>1408</td>\n",
       "      <td>24</td>\n",
       "      <td>619</td>\n",
       "    </tr>\n",
       "    <tr>\n",
       "      <th>5173</th>\n",
       "      <td>-8.874217</td>\n",
       "      <td>125.727539</td>\n",
       "      <td>19.0</td>\n",
       "      <td>0</td>\n",
       "      <td>0</td>\n",
       "      <td>0</td>\n",
       "      <td>Timor-Leste</td>\n",
       "      <td>0</td>\n",
       "      <td>0</td>\n",
       "      <td>0</td>\n",
       "    </tr>\n",
       "    <tr>\n",
       "      <th>20861</th>\n",
       "      <td>30.975600</td>\n",
       "      <td>112.270700</td>\n",
       "      <td>80.0</td>\n",
       "      <td>67803</td>\n",
       "      <td>3219</td>\n",
       "      <td>64264</td>\n",
       "      <td>Hubei / China</td>\n",
       "      <td>67803</td>\n",
       "      <td>3216</td>\n",
       "      <td>64236</td>\n",
       "    </tr>\n",
       "    <tr>\n",
       "      <th>5531</th>\n",
       "      <td>35.191700</td>\n",
       "      <td>108.870100</td>\n",
       "      <td>21.0</td>\n",
       "      <td>225</td>\n",
       "      <td>0</td>\n",
       "      <td>43</td>\n",
       "      <td>Shaanxi / China</td>\n",
       "      <td>219</td>\n",
       "      <td>0</td>\n",
       "      <td>32</td>\n",
       "    </tr>\n",
       "  </tbody>\n",
       "</table>\n",
       "<p>26780 rows × 10 columns</p>\n",
       "</div>"
      ],
      "text/plain": [
       "             Lat        Long  Days Passed  Confirmed  Deaths  Recovered  \\\n",
       "1816    0.186360    6.613081          6.0          0       0          0   \n",
       "20196   8.538000  -80.782100         77.0       2249      59         16   \n",
       "20562  53.709800   27.953400         79.0       1981      19        169   \n",
       "18737  40.143100   47.576900         72.0        443       5         32   \n",
       "6712    1.000000   32.000000         25.0          0       0          0   \n",
       "...          ...         ...          ...        ...     ...        ...   \n",
       "13641  15.783500  -90.230800         52.0          1       0          0   \n",
       "26975  48.669000   19.699000        103.0       1413      25        643   \n",
       "5173   -8.874217  125.727539         19.0          0       0          0   \n",
       "20861  30.975600  112.270700         80.0      67803    3219      64264   \n",
       "5531   35.191700  108.870100         21.0        225       0         43   \n",
       "\n",
       "                       Local  Conf. Prev.  Deaths Prev.  Recov. Prev.  \n",
       "1816   Sao Tome and Principe            0             0             0  \n",
       "20196                 Panama         2100            55            14  \n",
       "20562                Belarus         1486            16           139  \n",
       "18737             Azerbaijan          400             5            26  \n",
       "6712                  Uganda            0             0             0  \n",
       "...                      ...          ...           ...           ...  \n",
       "13641              Guatemala            0             0             0  \n",
       "26975               Slovakia         1408            24           619  \n",
       "5173             Timor-Leste            0             0             0  \n",
       "20861          Hubei / China        67803          3216         64236  \n",
       "5531         Shaanxi / China          219             0            32  \n",
       "\n",
       "[26780 rows x 10 columns]"
      ]
     },
     "execution_count": 9,
     "metadata": {},
     "output_type": "execute_result"
    }
   ],
   "source": [
    "from sklearn.model_selection import train_test_split\n",
    "\n",
    "\n",
    "#criar set de treino e teste\n",
    "train, test = train_test_split(covid_data, test_size=0.0096)\n",
    "train"
   ]
  },
  {
   "cell_type": "code",
   "execution_count": 10,
   "metadata": {},
   "outputs": [],
   "source": [
    "#colunas em que vamos basear as previsões\n",
    "x_columns = ['Lat','Long','Days Passed', 'Conf. Prev.','Deaths Prev.','Recov. Prev.']\n",
    "#colunas que queremos prever\n",
    "y_columns = ['Confirmed','Deaths','Recovered']"
   ]
  },
  {
   "cell_type": "markdown",
   "metadata": {},
   "source": [
    "O uso de apenas este algoritmo não possibilita a previsão para mais do que um output.\n",
    "Assim, foi preciso auxiliarmo-nos num \"wrapper\" - MultiOutputRegressor - de forma a conseguirmos\n",
    "contornar este problema. Esta classe irá criar uma instância do modelo para cada um dos outputs do problema.\n",
    "\n",
    "Contudo como referido, é criado um modelo separado para cada output. Consequentemente, esta\n",
    "solução não consegue garantir a dependência entre as várias varíáveis, ou seja, assume que\n",
    "os outputs são totalmente independentes uns dos outros. \n",
    "\n",
    "No contexto deste problema os outputs tem relação entre si uma vez que o maior número de casos confirmados \n",
    "implicam um maior número de mortes e recuperados. Apesar disto, decidimos avançar na mesma com este algoritmo uma\n",
    "vez que a dependência entre os vários outputs poderá não ser assim tão significativa para os resultados finais."
   ]
  },
  {
   "cell_type": "code",
   "execution_count": 11,
   "metadata": {},
   "outputs": [],
   "source": [
    "from sklearn.multioutput import MultiOutputRegressor\n",
    "from sklearn.pipeline import make_pipeline\n",
    "from sklearn.preprocessing import StandardScaler"
   ]
  },
  {
   "cell_type": "markdown",
   "metadata": {},
   "source": [
    "## RBF with epsilon=0.1"
   ]
  },
  {
   "cell_type": "code",
   "execution_count": 12,
   "metadata": {},
   "outputs": [],
   "source": [
    "sc_X = StandardScaler()\n",
    "sc_y = StandardScaler()\n",
    "X = sc_X.fit_transform(train[x_columns])\n",
    "Y = sc_y.fit_transform(train[y_columns])"
   ]
  },
  {
   "cell_type": "code",
   "execution_count": 16,
   "metadata": {},
   "outputs": [
    {
     "name": "stdout",
     "output_type": "stream",
     "text": [
      "[  21.55100794   23.64102449   51.49820762 3116.10220314  202.67961165\n",
      "  818.09790889]\n"
     ]
    }
   ],
   "source": [
    "print(sc_X.mean_)"
   ]
  },
  {
   "cell_type": "code",
   "execution_count": 13,
   "metadata": {},
   "outputs": [],
   "source": [
    "regressor_rbf = SVR(kernel='rbf', cache_size=500)\n",
    "wrapper_rbf = MultiOutputRegressor(regressor_rbf)"
   ]
  },
  {
   "cell_type": "code",
   "execution_count": 14,
   "metadata": {},
   "outputs": [],
   "source": [
    "wrapper_rbf.fit(X,Y)\n",
    "predictions_rbf = wrapper_rbf.predict(test[x_columns])"
   ]
  },
  {
   "cell_type": "code",
   "execution_count": 15,
   "metadata": {},
   "outputs": [
    {
     "data": {
      "text/html": [
       "<div>\n",
       "<style scoped>\n",
       "    .dataframe tbody tr th:only-of-type {\n",
       "        vertical-align: middle;\n",
       "    }\n",
       "\n",
       "    .dataframe tbody tr th {\n",
       "        vertical-align: top;\n",
       "    }\n",
       "\n",
       "    .dataframe thead th {\n",
       "        text-align: right;\n",
       "    }\n",
       "</style>\n",
       "<table border=\"1\" class=\"dataframe\">\n",
       "  <thead>\n",
       "    <tr style=\"text-align: right;\">\n",
       "      <th></th>\n",
       "      <th>Days Passed</th>\n",
       "      <th>Local</th>\n",
       "      <th>Confirmed Prediction</th>\n",
       "      <th>Confirmed Actual</th>\n",
       "      <th>Deaths Prediction</th>\n",
       "      <th>Deaths Actual</th>\n",
       "      <th>Recovered Prediction</th>\n",
       "      <th>Recovered Actual</th>\n",
       "    </tr>\n",
       "  </thead>\n",
       "  <tbody>\n",
       "    <tr>\n",
       "      <th>0</th>\n",
       "      <td>12.0</td>\n",
       "      <td>Fujian / China</td>\n",
       "      <td>5.0</td>\n",
       "      <td>179</td>\n",
       "      <td>6.0</td>\n",
       "      <td>0</td>\n",
       "      <td>6.0</td>\n",
       "      <td>1</td>\n",
       "    </tr>\n",
       "    <tr>\n",
       "      <th>1</th>\n",
       "      <td>83.0</td>\n",
       "      <td>Tianjin / China</td>\n",
       "      <td>5.0</td>\n",
       "      <td>185</td>\n",
       "      <td>6.0</td>\n",
       "      <td>3</td>\n",
       "      <td>6.0</td>\n",
       "      <td>168</td>\n",
       "    </tr>\n",
       "    <tr>\n",
       "      <th>2</th>\n",
       "      <td>48.0</td>\n",
       "      <td>Spain</td>\n",
       "      <td>5.0</td>\n",
       "      <td>1695</td>\n",
       "      <td>6.0</td>\n",
       "      <td>35</td>\n",
       "      <td>6.0</td>\n",
       "      <td>32</td>\n",
       "    </tr>\n",
       "    <tr>\n",
       "      <th>3</th>\n",
       "      <td>1.0</td>\n",
       "      <td>Poland</td>\n",
       "      <td>5.0</td>\n",
       "      <td>0</td>\n",
       "      <td>6.0</td>\n",
       "      <td>0</td>\n",
       "      <td>6.0</td>\n",
       "      <td>0</td>\n",
       "    </tr>\n",
       "    <tr>\n",
       "      <th>4</th>\n",
       "      <td>22.0</td>\n",
       "      <td>South Sudan</td>\n",
       "      <td>5.0</td>\n",
       "      <td>0</td>\n",
       "      <td>6.0</td>\n",
       "      <td>0</td>\n",
       "      <td>6.0</td>\n",
       "      <td>0</td>\n",
       "    </tr>\n",
       "    <tr>\n",
       "      <th>...</th>\n",
       "      <td>...</td>\n",
       "      <td>...</td>\n",
       "      <td>...</td>\n",
       "      <td>...</td>\n",
       "      <td>...</td>\n",
       "      <td>...</td>\n",
       "      <td>...</td>\n",
       "      <td>...</td>\n",
       "    </tr>\n",
       "    <tr>\n",
       "      <th>255</th>\n",
       "      <td>36.0</td>\n",
       "      <td>Hunan / China</td>\n",
       "      <td>5.0</td>\n",
       "      <td>1017</td>\n",
       "      <td>6.0</td>\n",
       "      <td>4</td>\n",
       "      <td>6.0</td>\n",
       "      <td>804</td>\n",
       "    </tr>\n",
       "    <tr>\n",
       "      <th>256</th>\n",
       "      <td>42.0</td>\n",
       "      <td>Gibraltar / United Kingdom</td>\n",
       "      <td>5.0</td>\n",
       "      <td>1</td>\n",
       "      <td>6.0</td>\n",
       "      <td>0</td>\n",
       "      <td>6.0</td>\n",
       "      <td>0</td>\n",
       "    </tr>\n",
       "    <tr>\n",
       "      <th>257</th>\n",
       "      <td>32.0</td>\n",
       "      <td>Croatia</td>\n",
       "      <td>5.0</td>\n",
       "      <td>0</td>\n",
       "      <td>6.0</td>\n",
       "      <td>0</td>\n",
       "      <td>6.0</td>\n",
       "      <td>0</td>\n",
       "    </tr>\n",
       "    <tr>\n",
       "      <th>258</th>\n",
       "      <td>38.0</td>\n",
       "      <td>Heilongjiang / China</td>\n",
       "      <td>5.0</td>\n",
       "      <td>480</td>\n",
       "      <td>6.0</td>\n",
       "      <td>13</td>\n",
       "      <td>6.0</td>\n",
       "      <td>0</td>\n",
       "    </tr>\n",
       "    <tr>\n",
       "      <th>259</th>\n",
       "      <td>10.0</td>\n",
       "      <td>Sichuan / China</td>\n",
       "      <td>5.0</td>\n",
       "      <td>207</td>\n",
       "      <td>6.0</td>\n",
       "      <td>1</td>\n",
       "      <td>6.0</td>\n",
       "      <td>3</td>\n",
       "    </tr>\n",
       "  </tbody>\n",
       "</table>\n",
       "<p>260 rows × 8 columns</p>\n",
       "</div>"
      ],
      "text/plain": [
       "     Days Passed                       Local  Confirmed Prediction  \\\n",
       "0           12.0              Fujian / China                   5.0   \n",
       "1           83.0             Tianjin / China                   5.0   \n",
       "2           48.0                       Spain                   5.0   \n",
       "3            1.0                      Poland                   5.0   \n",
       "4           22.0                 South Sudan                   5.0   \n",
       "..           ...                         ...                   ...   \n",
       "255         36.0               Hunan / China                   5.0   \n",
       "256         42.0  Gibraltar / United Kingdom                   5.0   \n",
       "257         32.0                     Croatia                   5.0   \n",
       "258         38.0        Heilongjiang / China                   5.0   \n",
       "259         10.0             Sichuan / China                   5.0   \n",
       "\n",
       "     Confirmed Actual  Deaths Prediction  Deaths Actual  Recovered Prediction  \\\n",
       "0                 179                6.0              0                   6.0   \n",
       "1                 185                6.0              3                   6.0   \n",
       "2                1695                6.0             35                   6.0   \n",
       "3                   0                6.0              0                   6.0   \n",
       "4                   0                6.0              0                   6.0   \n",
       "..                ...                ...            ...                   ...   \n",
       "255              1017                6.0              4                   6.0   \n",
       "256                 1                6.0              0                   6.0   \n",
       "257                 0                6.0              0                   6.0   \n",
       "258               480                6.0             13                   6.0   \n",
       "259               207                6.0              1                   6.0   \n",
       "\n",
       "     Recovered Actual  \n",
       "0                   1  \n",
       "1                 168  \n",
       "2                  32  \n",
       "3                   0  \n",
       "4                   0  \n",
       "..                ...  \n",
       "255               804  \n",
       "256                 0  \n",
       "257                 0  \n",
       "258                 0  \n",
       "259                 3  \n",
       "\n",
       "[260 rows x 8 columns]"
      ]
     },
     "execution_count": 15,
     "metadata": {},
     "output_type": "execute_result"
    }
   ],
   "source": [
    "predictions_rbf = pd.DataFrame(data=predictions_rbf,columns=['Confirmed Prediction','Deaths Prediction','Recovered Prediction'])\n",
    "predictions_rbf['Local'] = test['Local'].tolist()\n",
    "predictions_rbf['Confirmed Prediction'] = predictions_rbf['Confirmed Prediction'].apply(np.ceil)\n",
    "predictions_rbf['Deaths Prediction'] = predictions_rbf['Deaths Prediction'].apply(np.ceil)\n",
    "predictions_rbf['Recovered Prediction'] = predictions_rbf['Recovered Prediction'].apply(np.ceil)\n",
    "predictions_rbf['Confirmed Actual'] = test['Confirmed'].tolist()\n",
    "predictions_rbf['Deaths Actual'] = test['Deaths'].tolist()\n",
    "predictions_rbf['Recovered Actual'] = test['Recovered'].tolist()\n",
    "predictions_rbf['Days Passed'] = test['Days Passed'].tolist()\n",
    "predictions_rbf = predictions_rbf[['Days Passed','Local', 'Confirmed Prediction', 'Confirmed Actual','Deaths Prediction', 'Deaths Actual','Recovered Prediction','Recovered Actual']]\n",
    "predictions_rbf"
   ]
  },
  {
   "cell_type": "code",
   "execution_count": 21,
   "metadata": {},
   "outputs": [],
   "source": [
    "with pd.ExcelWriter('results_svr_rbf.xlsx') as writer:\n",
    "    predictions_rbf.to_excel(writer)"
   ]
  },
  {
   "cell_type": "markdown",
   "metadata": {},
   "source": [
    "## Sigmoid with epsilon=0.1\n"
   ]
  },
  {
   "cell_type": "code",
   "execution_count": 22,
   "metadata": {},
   "outputs": [],
   "source": [
    "regressor_s = SVR(kernel='sigmoid', cache_size=500)\n",
    "wrapper_s = MultiOutputRegressor(regressor_s)"
   ]
  },
  {
   "cell_type": "code",
   "execution_count": 23,
   "metadata": {},
   "outputs": [],
   "source": [
    "wrapper_s.fit(train[x_columns],train[y_columns])\n",
    "predictions_s = wrapper_s.predict(test[x_columns])"
   ]
  },
  {
   "cell_type": "code",
   "execution_count": 24,
   "metadata": {},
   "outputs": [
    {
     "data": {
      "text/html": [
       "<div>\n",
       "<style scoped>\n",
       "    .dataframe tbody tr th:only-of-type {\n",
       "        vertical-align: middle;\n",
       "    }\n",
       "\n",
       "    .dataframe tbody tr th {\n",
       "        vertical-align: top;\n",
       "    }\n",
       "\n",
       "    .dataframe thead th {\n",
       "        text-align: right;\n",
       "    }\n",
       "</style>\n",
       "<table border=\"1\" class=\"dataframe\">\n",
       "  <thead>\n",
       "    <tr style=\"text-align: right;\">\n",
       "      <th></th>\n",
       "      <th>Days Passed</th>\n",
       "      <th>Local</th>\n",
       "      <th>Confirmed Prediction</th>\n",
       "      <th>Confirmed Actual</th>\n",
       "      <th>Deaths Prediction</th>\n",
       "      <th>Deaths Actual</th>\n",
       "      <th>Recovered Prediction</th>\n",
       "      <th>Recovered Actual</th>\n",
       "    </tr>\n",
       "  </thead>\n",
       "  <tbody>\n",
       "    <tr>\n",
       "      <th>0</th>\n",
       "      <td>18.0</td>\n",
       "      <td>Shaanxi / China</td>\n",
       "      <td>28.0</td>\n",
       "      <td>208</td>\n",
       "      <td>14.0</td>\n",
       "      <td>0</td>\n",
       "      <td>15.0</td>\n",
       "      <td>25</td>\n",
       "    </tr>\n",
       "    <tr>\n",
       "      <th>1</th>\n",
       "      <td>102.0</td>\n",
       "      <td>Gibraltar / United Kingdom</td>\n",
       "      <td>26.0</td>\n",
       "      <td>144</td>\n",
       "      <td>12.0</td>\n",
       "      <td>0</td>\n",
       "      <td>14.0</td>\n",
       "      <td>132</td>\n",
       "    </tr>\n",
       "    <tr>\n",
       "      <th>2</th>\n",
       "      <td>78.0</td>\n",
       "      <td>Liechtenstein</td>\n",
       "      <td>18.0</td>\n",
       "      <td>78</td>\n",
       "      <td>7.0</td>\n",
       "      <td>1</td>\n",
       "      <td>7.0</td>\n",
       "      <td>55</td>\n",
       "    </tr>\n",
       "    <tr>\n",
       "      <th>3</th>\n",
       "      <td>69.0</td>\n",
       "      <td>South Sudan</td>\n",
       "      <td>10.0</td>\n",
       "      <td>0</td>\n",
       "      <td>-0.0</td>\n",
       "      <td>0</td>\n",
       "      <td>1.0</td>\n",
       "      <td>0</td>\n",
       "    </tr>\n",
       "    <tr>\n",
       "      <th>4</th>\n",
       "      <td>98.0</td>\n",
       "      <td>Hungary</td>\n",
       "      <td>218.0</td>\n",
       "      <td>2727</td>\n",
       "      <td>145.0</td>\n",
       "      <td>300</td>\n",
       "      <td>156.0</td>\n",
       "      <td>536</td>\n",
       "    </tr>\n",
       "    <tr>\n",
       "      <th>...</th>\n",
       "      <td>...</td>\n",
       "      <td>...</td>\n",
       "      <td>...</td>\n",
       "      <td>...</td>\n",
       "      <td>...</td>\n",
       "      <td>...</td>\n",
       "      <td>...</td>\n",
       "      <td>...</td>\n",
       "    </tr>\n",
       "    <tr>\n",
       "      <th>255</th>\n",
       "      <td>31.0</td>\n",
       "      <td>Somalia</td>\n",
       "      <td>10.0</td>\n",
       "      <td>0</td>\n",
       "      <td>-0.0</td>\n",
       "      <td>0</td>\n",
       "      <td>1.0</td>\n",
       "      <td>0</td>\n",
       "    </tr>\n",
       "    <tr>\n",
       "      <th>256</th>\n",
       "      <td>1.0</td>\n",
       "      <td>Shandong / China</td>\n",
       "      <td>10.0</td>\n",
       "      <td>6</td>\n",
       "      <td>-0.0</td>\n",
       "      <td>0</td>\n",
       "      <td>1.0</td>\n",
       "      <td>0</td>\n",
       "    </tr>\n",
       "    <tr>\n",
       "      <th>257</th>\n",
       "      <td>102.0</td>\n",
       "      <td>Malta</td>\n",
       "      <td>60.0</td>\n",
       "      <td>477</td>\n",
       "      <td>37.0</td>\n",
       "      <td>4</td>\n",
       "      <td>41.0</td>\n",
       "      <td>392</td>\n",
       "    </tr>\n",
       "    <tr>\n",
       "      <th>258</th>\n",
       "      <td>91.0</td>\n",
       "      <td>Malawi</td>\n",
       "      <td>12.0</td>\n",
       "      <td>23</td>\n",
       "      <td>2.0</td>\n",
       "      <td>3</td>\n",
       "      <td>2.0</td>\n",
       "      <td>3</td>\n",
       "    </tr>\n",
       "    <tr>\n",
       "      <th>259</th>\n",
       "      <td>85.0</td>\n",
       "      <td>Venezuela</td>\n",
       "      <td>30.0</td>\n",
       "      <td>204</td>\n",
       "      <td>16.0</td>\n",
       "      <td>9</td>\n",
       "      <td>17.0</td>\n",
       "      <td>111</td>\n",
       "    </tr>\n",
       "  </tbody>\n",
       "</table>\n",
       "<p>260 rows × 8 columns</p>\n",
       "</div>"
      ],
      "text/plain": [
       "     Days Passed                       Local  Confirmed Prediction  \\\n",
       "0           18.0             Shaanxi / China                  28.0   \n",
       "1          102.0  Gibraltar / United Kingdom                  26.0   \n",
       "2           78.0               Liechtenstein                  18.0   \n",
       "3           69.0                 South Sudan                  10.0   \n",
       "4           98.0                     Hungary                 218.0   \n",
       "..           ...                         ...                   ...   \n",
       "255         31.0                     Somalia                  10.0   \n",
       "256          1.0            Shandong / China                  10.0   \n",
       "257        102.0                       Malta                  60.0   \n",
       "258         91.0                      Malawi                  12.0   \n",
       "259         85.0                   Venezuela                  30.0   \n",
       "\n",
       "     Confirmed Actual  Deaths Prediction  Deaths Actual  Recovered Prediction  \\\n",
       "0                 208               14.0              0                  15.0   \n",
       "1                 144               12.0              0                  14.0   \n",
       "2                  78                7.0              1                   7.0   \n",
       "3                   0               -0.0              0                   1.0   \n",
       "4                2727              145.0            300                 156.0   \n",
       "..                ...                ...            ...                   ...   \n",
       "255                 0               -0.0              0                   1.0   \n",
       "256                 6               -0.0              0                   1.0   \n",
       "257               477               37.0              4                  41.0   \n",
       "258                23                2.0              3                   2.0   \n",
       "259               204               16.0              9                  17.0   \n",
       "\n",
       "     Recovered Actual  \n",
       "0                  25  \n",
       "1                 132  \n",
       "2                  55  \n",
       "3                   0  \n",
       "4                 536  \n",
       "..                ...  \n",
       "255                 0  \n",
       "256                 0  \n",
       "257               392  \n",
       "258                 3  \n",
       "259               111  \n",
       "\n",
       "[260 rows x 8 columns]"
      ]
     },
     "execution_count": 24,
     "metadata": {},
     "output_type": "execute_result"
    }
   ],
   "source": [
    "predictions_s = pd.DataFrame(data=predictions_s,columns=['Confirmed Prediction','Deaths Prediction','Recovered Prediction'])\n",
    "predictions_s['Local'] = test['Local'].tolist()\n",
    "predictions_s['Confirmed Prediction'] = predictions_s['Confirmed Prediction'].apply(np.ceil)\n",
    "predictions_s['Deaths Prediction'] = predictions_s['Deaths Prediction'].apply(np.ceil)\n",
    "predictions_s['Recovered Prediction'] = predictions_s['Recovered Prediction'].apply(np.ceil)\n",
    "predictions_s['Confirmed Actual'] = test['Confirmed'].tolist()\n",
    "predictions_s['Deaths Actual'] = test['Deaths'].tolist()\n",
    "predictions_s['Recovered Actual'] = test['Recovered'].tolist()\n",
    "predictions_s['Days Passed'] = test['Days Passed'].tolist()\n",
    "predictions_s = predictions_s[['Days Passed','Local', 'Confirmed Prediction', 'Confirmed Actual','Deaths Prediction', 'Deaths Actual','Recovered Prediction','Recovered Actual']]\n",
    "predictions_s"
   ]
  },
  {
   "cell_type": "code",
   "execution_count": 25,
   "metadata": {},
   "outputs": [],
   "source": [
    "with pd.ExcelWriter('results_svr_s.xlsx') as writer:\n",
    "    predictions_s.to_excel(writer)"
   ]
  },
  {
   "cell_type": "markdown",
   "metadata": {},
   "source": [
    "## Sigmoid with epsilon=0.2"
   ]
  },
  {
   "cell_type": "code",
   "execution_count": 26,
   "metadata": {},
   "outputs": [],
   "source": [
    "regressor_s2 = SVR(kernel='sigmoid', epsilon=0.2, cache_size = 500)\n",
    "wrapper_s2 = MultiOutputRegressor(regressor_s2)"
   ]
  },
  {
   "cell_type": "code",
   "execution_count": 27,
   "metadata": {},
   "outputs": [],
   "source": [
    "wrapper_s2.fit(train[x_columns],train[y_columns])\n",
    "predictions_s2 = wrapper_s2.predict(test[x_columns])"
   ]
  },
  {
   "cell_type": "code",
   "execution_count": 28,
   "metadata": {},
   "outputs": [
    {
     "data": {
      "text/html": [
       "<div>\n",
       "<style scoped>\n",
       "    .dataframe tbody tr th:only-of-type {\n",
       "        vertical-align: middle;\n",
       "    }\n",
       "\n",
       "    .dataframe tbody tr th {\n",
       "        vertical-align: top;\n",
       "    }\n",
       "\n",
       "    .dataframe thead th {\n",
       "        text-align: right;\n",
       "    }\n",
       "</style>\n",
       "<table border=\"1\" class=\"dataframe\">\n",
       "  <thead>\n",
       "    <tr style=\"text-align: right;\">\n",
       "      <th></th>\n",
       "      <th>Days Passed</th>\n",
       "      <th>Local</th>\n",
       "      <th>Confirmed Prediction</th>\n",
       "      <th>Confirmed Actual</th>\n",
       "      <th>Deaths Prediction</th>\n",
       "      <th>Deaths Actual</th>\n",
       "      <th>Recovered Prediction</th>\n",
       "      <th>Recovered Actual</th>\n",
       "    </tr>\n",
       "  </thead>\n",
       "  <tbody>\n",
       "    <tr>\n",
       "      <th>0</th>\n",
       "      <td>18.0</td>\n",
       "      <td>Shaanxi / China</td>\n",
       "      <td>28.0</td>\n",
       "      <td>208</td>\n",
       "      <td>14.0</td>\n",
       "      <td>0</td>\n",
       "      <td>15.0</td>\n",
       "      <td>25</td>\n",
       "    </tr>\n",
       "    <tr>\n",
       "      <th>1</th>\n",
       "      <td>102.0</td>\n",
       "      <td>Gibraltar / United Kingdom</td>\n",
       "      <td>26.0</td>\n",
       "      <td>144</td>\n",
       "      <td>12.0</td>\n",
       "      <td>0</td>\n",
       "      <td>14.0</td>\n",
       "      <td>132</td>\n",
       "    </tr>\n",
       "    <tr>\n",
       "      <th>2</th>\n",
       "      <td>78.0</td>\n",
       "      <td>Liechtenstein</td>\n",
       "      <td>18.0</td>\n",
       "      <td>78</td>\n",
       "      <td>6.0</td>\n",
       "      <td>1</td>\n",
       "      <td>7.0</td>\n",
       "      <td>55</td>\n",
       "    </tr>\n",
       "    <tr>\n",
       "      <th>3</th>\n",
       "      <td>69.0</td>\n",
       "      <td>South Sudan</td>\n",
       "      <td>10.0</td>\n",
       "      <td>0</td>\n",
       "      <td>-0.0</td>\n",
       "      <td>0</td>\n",
       "      <td>1.0</td>\n",
       "      <td>0</td>\n",
       "    </tr>\n",
       "    <tr>\n",
       "      <th>4</th>\n",
       "      <td>98.0</td>\n",
       "      <td>Hungary</td>\n",
       "      <td>218.0</td>\n",
       "      <td>2727</td>\n",
       "      <td>145.0</td>\n",
       "      <td>300</td>\n",
       "      <td>156.0</td>\n",
       "      <td>536</td>\n",
       "    </tr>\n",
       "    <tr>\n",
       "      <th>...</th>\n",
       "      <td>...</td>\n",
       "      <td>...</td>\n",
       "      <td>...</td>\n",
       "      <td>...</td>\n",
       "      <td>...</td>\n",
       "      <td>...</td>\n",
       "      <td>...</td>\n",
       "      <td>...</td>\n",
       "    </tr>\n",
       "    <tr>\n",
       "      <th>255</th>\n",
       "      <td>31.0</td>\n",
       "      <td>Somalia</td>\n",
       "      <td>10.0</td>\n",
       "      <td>0</td>\n",
       "      <td>-0.0</td>\n",
       "      <td>0</td>\n",
       "      <td>1.0</td>\n",
       "      <td>0</td>\n",
       "    </tr>\n",
       "    <tr>\n",
       "      <th>256</th>\n",
       "      <td>1.0</td>\n",
       "      <td>Shandong / China</td>\n",
       "      <td>10.0</td>\n",
       "      <td>6</td>\n",
       "      <td>-0.0</td>\n",
       "      <td>0</td>\n",
       "      <td>1.0</td>\n",
       "      <td>0</td>\n",
       "    </tr>\n",
       "    <tr>\n",
       "      <th>257</th>\n",
       "      <td>102.0</td>\n",
       "      <td>Malta</td>\n",
       "      <td>60.0</td>\n",
       "      <td>477</td>\n",
       "      <td>37.0</td>\n",
       "      <td>4</td>\n",
       "      <td>41.0</td>\n",
       "      <td>392</td>\n",
       "    </tr>\n",
       "    <tr>\n",
       "      <th>258</th>\n",
       "      <td>91.0</td>\n",
       "      <td>Malawi</td>\n",
       "      <td>12.0</td>\n",
       "      <td>23</td>\n",
       "      <td>2.0</td>\n",
       "      <td>3</td>\n",
       "      <td>2.0</td>\n",
       "      <td>3</td>\n",
       "    </tr>\n",
       "    <tr>\n",
       "      <th>259</th>\n",
       "      <td>85.0</td>\n",
       "      <td>Venezuela</td>\n",
       "      <td>30.0</td>\n",
       "      <td>204</td>\n",
       "      <td>15.0</td>\n",
       "      <td>9</td>\n",
       "      <td>17.0</td>\n",
       "      <td>111</td>\n",
       "    </tr>\n",
       "  </tbody>\n",
       "</table>\n",
       "<p>260 rows × 8 columns</p>\n",
       "</div>"
      ],
      "text/plain": [
       "     Days Passed                       Local  Confirmed Prediction  \\\n",
       "0           18.0             Shaanxi / China                  28.0   \n",
       "1          102.0  Gibraltar / United Kingdom                  26.0   \n",
       "2           78.0               Liechtenstein                  18.0   \n",
       "3           69.0                 South Sudan                  10.0   \n",
       "4           98.0                     Hungary                 218.0   \n",
       "..           ...                         ...                   ...   \n",
       "255         31.0                     Somalia                  10.0   \n",
       "256          1.0            Shandong / China                  10.0   \n",
       "257        102.0                       Malta                  60.0   \n",
       "258         91.0                      Malawi                  12.0   \n",
       "259         85.0                   Venezuela                  30.0   \n",
       "\n",
       "     Confirmed Actual  Deaths Prediction  Deaths Actual  Recovered Prediction  \\\n",
       "0                 208               14.0              0                  15.0   \n",
       "1                 144               12.0              0                  14.0   \n",
       "2                  78                6.0              1                   7.0   \n",
       "3                   0               -0.0              0                   1.0   \n",
       "4                2727              145.0            300                 156.0   \n",
       "..                ...                ...            ...                   ...   \n",
       "255                 0               -0.0              0                   1.0   \n",
       "256                 6               -0.0              0                   1.0   \n",
       "257               477               37.0              4                  41.0   \n",
       "258                23                2.0              3                   2.0   \n",
       "259               204               15.0              9                  17.0   \n",
       "\n",
       "     Recovered Actual  \n",
       "0                  25  \n",
       "1                 132  \n",
       "2                  55  \n",
       "3                   0  \n",
       "4                 536  \n",
       "..                ...  \n",
       "255                 0  \n",
       "256                 0  \n",
       "257               392  \n",
       "258                 3  \n",
       "259               111  \n",
       "\n",
       "[260 rows x 8 columns]"
      ]
     },
     "execution_count": 28,
     "metadata": {},
     "output_type": "execute_result"
    }
   ],
   "source": [
    "predictions_s2 = pd.DataFrame(data=predictions_s2,columns=['Confirmed Prediction','Deaths Prediction','Recovered Prediction'])\n",
    "predictions_s2['Local'] = test['Local'].tolist()\n",
    "predictions_s2['Confirmed Prediction'] = predictions_s2['Confirmed Prediction'].apply(np.ceil)\n",
    "predictions_s2['Deaths Prediction'] = predictions_s2['Deaths Prediction'].apply(np.ceil)\n",
    "predictions_s2['Recovered Prediction'] = predictions_s2['Recovered Prediction'].apply(np.ceil)\n",
    "predictions_s2['Confirmed Actual'] = test['Confirmed'].tolist()\n",
    "predictions_s2['Deaths Actual'] = test['Deaths'].tolist()\n",
    "predictions_s2['Recovered Actual'] = test['Recovered'].tolist()\n",
    "predictions_s2['Days Passed'] = test['Days Passed'].tolist()\n",
    "predictions_s2 = predictions_s2[['Days Passed','Local', 'Confirmed Prediction', 'Confirmed Actual','Deaths Prediction', 'Deaths Actual','Recovered Prediction','Recovered Actual']]\n",
    "predictions_s2"
   ]
  },
  {
   "cell_type": "code",
   "execution_count": 29,
   "metadata": {},
   "outputs": [],
   "source": [
    "with pd.ExcelWriter('results_svr_s2.xlsx') as writer:\n",
    "    predictions_s2.to_excel(writer)"
   ]
  },
  {
   "cell_type": "markdown",
   "metadata": {},
   "source": [
    "## Rbf com epsilon=0.2"
   ]
  },
  {
   "cell_type": "code",
   "execution_count": 32,
   "metadata": {},
   "outputs": [],
   "source": [
    "regressor_rbf2 = SVR(kernel='rbf', epsilon=0.2,cache_size=500)\n",
    "wrapper_rbf2 = MultiOutputRegressor(regressor_rbf2)"
   ]
  },
  {
   "cell_type": "code",
   "execution_count": 33,
   "metadata": {},
   "outputs": [],
   "source": [
    "wrapper_rbf2.fit(train[x_columns],train[y_columns])\n",
    "predictions_rbf2 = wrapper_rbf2.predict(test[x_columns])"
   ]
  },
  {
   "cell_type": "code",
   "execution_count": 34,
   "metadata": {},
   "outputs": [
    {
     "data": {
      "text/html": [
       "<div>\n",
       "<style scoped>\n",
       "    .dataframe tbody tr th:only-of-type {\n",
       "        vertical-align: middle;\n",
       "    }\n",
       "\n",
       "    .dataframe tbody tr th {\n",
       "        vertical-align: top;\n",
       "    }\n",
       "\n",
       "    .dataframe thead th {\n",
       "        text-align: right;\n",
       "    }\n",
       "</style>\n",
       "<table border=\"1\" class=\"dataframe\">\n",
       "  <thead>\n",
       "    <tr style=\"text-align: right;\">\n",
       "      <th></th>\n",
       "      <th>Days Passed</th>\n",
       "      <th>Local</th>\n",
       "      <th>Confirmed Prediction</th>\n",
       "      <th>Confirmed Actual</th>\n",
       "      <th>Deaths Prediction</th>\n",
       "      <th>Deaths Actual</th>\n",
       "      <th>Recovered Prediction</th>\n",
       "      <th>Recovered Actual</th>\n",
       "    </tr>\n",
       "  </thead>\n",
       "  <tbody>\n",
       "    <tr>\n",
       "      <th>0</th>\n",
       "      <td>18.0</td>\n",
       "      <td>Shaanxi / China</td>\n",
       "      <td>18.0</td>\n",
       "      <td>208</td>\n",
       "      <td>3.0</td>\n",
       "      <td>0</td>\n",
       "      <td>5.0</td>\n",
       "      <td>25</td>\n",
       "    </tr>\n",
       "    <tr>\n",
       "      <th>1</th>\n",
       "      <td>102.0</td>\n",
       "      <td>Gibraltar / United Kingdom</td>\n",
       "      <td>17.0</td>\n",
       "      <td>144</td>\n",
       "      <td>2.0</td>\n",
       "      <td>0</td>\n",
       "      <td>5.0</td>\n",
       "      <td>132</td>\n",
       "    </tr>\n",
       "    <tr>\n",
       "      <th>2</th>\n",
       "      <td>78.0</td>\n",
       "      <td>Liechtenstein</td>\n",
       "      <td>14.0</td>\n",
       "      <td>78</td>\n",
       "      <td>2.0</td>\n",
       "      <td>1</td>\n",
       "      <td>3.0</td>\n",
       "      <td>55</td>\n",
       "    </tr>\n",
       "    <tr>\n",
       "      <th>3</th>\n",
       "      <td>69.0</td>\n",
       "      <td>South Sudan</td>\n",
       "      <td>11.0</td>\n",
       "      <td>0</td>\n",
       "      <td>1.0</td>\n",
       "      <td>0</td>\n",
       "      <td>1.0</td>\n",
       "      <td>0</td>\n",
       "    </tr>\n",
       "    <tr>\n",
       "      <th>4</th>\n",
       "      <td>98.0</td>\n",
       "      <td>Hungary</td>\n",
       "      <td>115.0</td>\n",
       "      <td>2727</td>\n",
       "      <td>39.0</td>\n",
       "      <td>300</td>\n",
       "      <td>62.0</td>\n",
       "      <td>536</td>\n",
       "    </tr>\n",
       "    <tr>\n",
       "      <th>...</th>\n",
       "      <td>...</td>\n",
       "      <td>...</td>\n",
       "      <td>...</td>\n",
       "      <td>...</td>\n",
       "      <td>...</td>\n",
       "      <td>...</td>\n",
       "      <td>...</td>\n",
       "      <td>...</td>\n",
       "    </tr>\n",
       "    <tr>\n",
       "      <th>255</th>\n",
       "      <td>31.0</td>\n",
       "      <td>Somalia</td>\n",
       "      <td>11.0</td>\n",
       "      <td>0</td>\n",
       "      <td>1.0</td>\n",
       "      <td>0</td>\n",
       "      <td>1.0</td>\n",
       "      <td>0</td>\n",
       "    </tr>\n",
       "    <tr>\n",
       "      <th>256</th>\n",
       "      <td>1.0</td>\n",
       "      <td>Shandong / China</td>\n",
       "      <td>11.0</td>\n",
       "      <td>6</td>\n",
       "      <td>1.0</td>\n",
       "      <td>0</td>\n",
       "      <td>1.0</td>\n",
       "      <td>0</td>\n",
       "    </tr>\n",
       "    <tr>\n",
       "      <th>257</th>\n",
       "      <td>102.0</td>\n",
       "      <td>Malta</td>\n",
       "      <td>31.0</td>\n",
       "      <td>477</td>\n",
       "      <td>7.0</td>\n",
       "      <td>4</td>\n",
       "      <td>13.0</td>\n",
       "      <td>392</td>\n",
       "    </tr>\n",
       "    <tr>\n",
       "      <th>258</th>\n",
       "      <td>91.0</td>\n",
       "      <td>Malawi</td>\n",
       "      <td>11.0</td>\n",
       "      <td>23</td>\n",
       "      <td>1.0</td>\n",
       "      <td>3</td>\n",
       "      <td>1.0</td>\n",
       "      <td>3</td>\n",
       "    </tr>\n",
       "    <tr>\n",
       "      <th>259</th>\n",
       "      <td>85.0</td>\n",
       "      <td>Venezuela</td>\n",
       "      <td>19.0</td>\n",
       "      <td>204</td>\n",
       "      <td>3.0</td>\n",
       "      <td>9</td>\n",
       "      <td>5.0</td>\n",
       "      <td>111</td>\n",
       "    </tr>\n",
       "  </tbody>\n",
       "</table>\n",
       "<p>260 rows × 8 columns</p>\n",
       "</div>"
      ],
      "text/plain": [
       "     Days Passed                       Local  Confirmed Prediction  \\\n",
       "0           18.0             Shaanxi / China                  18.0   \n",
       "1          102.0  Gibraltar / United Kingdom                  17.0   \n",
       "2           78.0               Liechtenstein                  14.0   \n",
       "3           69.0                 South Sudan                  11.0   \n",
       "4           98.0                     Hungary                 115.0   \n",
       "..           ...                         ...                   ...   \n",
       "255         31.0                     Somalia                  11.0   \n",
       "256          1.0            Shandong / China                  11.0   \n",
       "257        102.0                       Malta                  31.0   \n",
       "258         91.0                      Malawi                  11.0   \n",
       "259         85.0                   Venezuela                  19.0   \n",
       "\n",
       "     Confirmed Actual  Deaths Prediction  Deaths Actual  Recovered Prediction  \\\n",
       "0                 208                3.0              0                   5.0   \n",
       "1                 144                2.0              0                   5.0   \n",
       "2                  78                2.0              1                   3.0   \n",
       "3                   0                1.0              0                   1.0   \n",
       "4                2727               39.0            300                  62.0   \n",
       "..                ...                ...            ...                   ...   \n",
       "255                 0                1.0              0                   1.0   \n",
       "256                 6                1.0              0                   1.0   \n",
       "257               477                7.0              4                  13.0   \n",
       "258                23                1.0              3                   1.0   \n",
       "259               204                3.0              9                   5.0   \n",
       "\n",
       "     Recovered Actual  \n",
       "0                  25  \n",
       "1                 132  \n",
       "2                  55  \n",
       "3                   0  \n",
       "4                 536  \n",
       "..                ...  \n",
       "255                 0  \n",
       "256                 0  \n",
       "257               392  \n",
       "258                 3  \n",
       "259               111  \n",
       "\n",
       "[260 rows x 8 columns]"
      ]
     },
     "execution_count": 34,
     "metadata": {},
     "output_type": "execute_result"
    }
   ],
   "source": [
    "predictions_rbf2 = pd.DataFrame(data=predictions_rbf2,columns=['Confirmed Prediction','Deaths Prediction','Recovered Prediction'])\n",
    "predictions_rbf2['Local'] = test['Local'].tolist()\n",
    "predictions_rbf2['Confirmed Prediction'] = predictions_rbf2['Confirmed Prediction'].apply(np.ceil)\n",
    "predictions_rbf2['Deaths Prediction'] = predictions_rbf2['Deaths Prediction'].apply(np.ceil)\n",
    "predictions_rbf2['Recovered Prediction'] = predictions_rbf2['Recovered Prediction'].apply(np.ceil)\n",
    "predictions_rbf2['Confirmed Actual'] = test['Confirmed'].tolist()\n",
    "predictions_rbf2['Deaths Actual'] = test['Deaths'].tolist()\n",
    "predictions_rbf2['Recovered Actual'] = test['Recovered'].tolist()\n",
    "predictions_rbf2['Days Passed'] = test['Days Passed'].tolist()\n",
    "predictions_rbf2 = predictions_rbf2[['Days Passed','Local', 'Confirmed Prediction', 'Confirmed Actual','Deaths Prediction', 'Deaths Actual','Recovered Prediction','Recovered Actual']]\n",
    "predictions_rbf2"
   ]
  },
  {
   "cell_type": "code",
   "execution_count": 35,
   "metadata": {},
   "outputs": [],
   "source": [
    "with pd.ExcelWriter('results_svr_rbf2.xlsx') as writer:\n",
    "    predictions_rbf2.to_excel(writer)"
   ]
  },
  {
   "cell_type": "code",
   "execution_count": null,
   "metadata": {},
   "outputs": [],
   "source": []
  },
  {
   "cell_type": "markdown",
   "metadata": {},
   "source": [
    "## Analysis Results"
   ]
  },
  {
   "cell_type": "code",
   "execution_count": 36,
   "metadata": {},
   "outputs": [],
   "source": [
    "from sklearn.metrics import precision_score\n",
    "from sklearn.metrics import accuracy_score\n",
    "from sklearn.metrics import recall_score\n",
    "from sklearn.metrics import confusion_matrix\n",
    "from sklearn.metrics import f1_score"
   ]
  },
  {
   "cell_type": "markdown",
   "metadata": {},
   "source": [
    "## RBF with epsilon=0.1\n"
   ]
  },
  {
   "cell_type": "code",
   "execution_count": 37,
   "metadata": {},
   "outputs": [],
   "source": [
    "y_pred = pd.DataFrame(data=predictions_rbf,columns=['Confirmed Prediction','Deaths Prediction','Recovered Prediction'])"
   ]
  },
  {
   "cell_type": "markdown",
   "metadata": {},
   "source": [
    "### Precision"
   ]
  },
  {
   "cell_type": "code",
   "execution_count": 38,
   "metadata": {},
   "outputs": [
    {
     "name": "stderr",
     "output_type": "stream",
     "text": [
      "/usr/lib/python3.8/site-packages/sklearn/metrics/_classification.py:1221: UndefinedMetricWarning: Precision is ill-defined and being set to 0.0 in labels with no predicted samples. Use `zero_division` parameter to control this behavior.\n",
      "  _warn_prf(average, modifier, msg_start, len(result))\n"
     ]
    },
    {
     "data": {
      "text/plain": [
       "0.00025832376578645234"
      ]
     },
     "execution_count": 38,
     "metadata": {},
     "output_type": "execute_result"
    }
   ],
   "source": [
    "precision_score(test['Confirmed'], y_pred['Confirmed Prediction'],average='weighted',zero_division='warn')"
   ]
  },
  {
   "cell_type": "code",
   "execution_count": 39,
   "metadata": {},
   "outputs": [
    {
     "data": {
      "text/plain": [
       "0.6455799755799756"
      ]
     },
     "execution_count": 39,
     "metadata": {},
     "output_type": "execute_result"
    }
   ],
   "source": [
    "precision_score(test['Deaths'], y_pred['Deaths Prediction'],average='weighted',zero_division='warn')"
   ]
  },
  {
   "cell_type": "code",
   "execution_count": 40,
   "metadata": {},
   "outputs": [
    {
     "data": {
      "text/plain": [
       "0.004149797570850202"
      ]
     },
     "execution_count": 40,
     "metadata": {},
     "output_type": "execute_result"
    }
   ],
   "source": [
    "precision_score(test['Recovered'], y_pred['Recovered Prediction'],average='weighted',zero_division='warn')"
   ]
  },
  {
   "cell_type": "markdown",
   "metadata": {},
   "source": [
    "### Accuracy"
   ]
  },
  {
   "cell_type": "code",
   "execution_count": 41,
   "metadata": {},
   "outputs": [
    {
     "data": {
      "text/plain": [
       "0.011538461538461539"
      ]
     },
     "execution_count": 41,
     "metadata": {},
     "output_type": "execute_result"
    }
   ],
   "source": [
    "accuracy_score(test['Confirmed'], y_pred['Confirmed Prediction'])"
   ]
  },
  {
   "cell_type": "code",
   "execution_count": 42,
   "metadata": {},
   "outputs": [
    {
     "data": {
      "text/plain": [
       "0.3192307692307692"
      ]
     },
     "execution_count": 42,
     "metadata": {},
     "output_type": "execute_result"
    }
   ],
   "source": [
    "accuracy_score(test['Deaths'], y_pred['Deaths Prediction'])"
   ]
  },
  {
   "cell_type": "code",
   "execution_count": 43,
   "metadata": {},
   "outputs": [
    {
     "data": {
      "text/plain": [
       "0.04230769230769231"
      ]
     },
     "execution_count": 43,
     "metadata": {},
     "output_type": "execute_result"
    }
   ],
   "source": [
    "accuracy_score(test['Recovered'], y_pred['Recovered Prediction'])"
   ]
  },
  {
   "cell_type": "markdown",
   "metadata": {},
   "source": [
    "### Recall"
   ]
  },
  {
   "cell_type": "code",
   "execution_count": 44,
   "metadata": {},
   "outputs": [
    {
     "name": "stderr",
     "output_type": "stream",
     "text": [
      "/usr/lib/python3.8/site-packages/sklearn/metrics/_classification.py:1221: UndefinedMetricWarning: Recall is ill-defined and being set to 0.0 in labels with no true samples. Use `zero_division` parameter to control this behavior.\n",
      "  _warn_prf(average, modifier, msg_start, len(result))\n"
     ]
    },
    {
     "data": {
      "text/plain": [
       "0.011538461538461539"
      ]
     },
     "execution_count": 44,
     "metadata": {},
     "output_type": "execute_result"
    }
   ],
   "source": [
    "recall_score(test['Confirmed'], y_pred['Confirmed Prediction'],average='weighted',zero_division='warn')"
   ]
  },
  {
   "cell_type": "code",
   "execution_count": 45,
   "metadata": {},
   "outputs": [
    {
     "data": {
      "text/plain": [
       "0.3192307692307692"
      ]
     },
     "execution_count": 45,
     "metadata": {},
     "output_type": "execute_result"
    }
   ],
   "source": [
    "recall_score(test['Deaths'], y_pred['Deaths Prediction'],average='weighted',zero_division='warn')"
   ]
  },
  {
   "cell_type": "code",
   "execution_count": 46,
   "metadata": {},
   "outputs": [
    {
     "data": {
      "text/plain": [
       "0.04230769230769231"
      ]
     },
     "execution_count": 46,
     "metadata": {},
     "output_type": "execute_result"
    }
   ],
   "source": [
    "recall_score(test['Recovered'], y_pred['Recovered Prediction'],average='weighted',zero_division='warn')"
   ]
  },
  {
   "cell_type": "markdown",
   "metadata": {},
   "source": [
    "### Confusion Matrix"
   ]
  },
  {
   "cell_type": "code",
   "execution_count": 47,
   "metadata": {},
   "outputs": [
    {
     "data": {
      "text/plain": [
       "array([[0, 0, 0, ..., 0, 0, 0],\n",
       "       [0, 0, 0, ..., 0, 0, 0],\n",
       "       [0, 0, 0, ..., 0, 0, 0],\n",
       "       ...,\n",
       "       [0, 0, 0, ..., 0, 0, 0],\n",
       "       [0, 0, 0, ..., 0, 0, 0],\n",
       "       [0, 0, 0, ..., 0, 0, 0]])"
      ]
     },
     "execution_count": 47,
     "metadata": {},
     "output_type": "execute_result"
    }
   ],
   "source": [
    "confusion_matrix(test['Confirmed'], y_pred['Confirmed Prediction'])"
   ]
  },
  {
   "cell_type": "code",
   "execution_count": 48,
   "metadata": {},
   "outputs": [
    {
     "data": {
      "text/plain": [
       "array([[66, 84,  4, ...,  0,  0,  0],\n",
       "       [ 0, 12,  7, ...,  0,  0,  0],\n",
       "       [ 0,  2,  2, ...,  0,  0,  0],\n",
       "       ...,\n",
       "       [ 0,  0,  0, ...,  0,  0,  0],\n",
       "       [ 0,  0,  0, ...,  0,  0,  0],\n",
       "       [ 0,  0,  0, ...,  0,  0,  0]])"
      ]
     },
     "execution_count": 48,
     "metadata": {},
     "output_type": "execute_result"
    }
   ],
   "source": [
    "confusion_matrix(test['Deaths'], y_pred['Deaths Prediction'])"
   ]
  },
  {
   "cell_type": "code",
   "execution_count": 49,
   "metadata": {},
   "outputs": [
    {
     "data": {
      "text/plain": [
       "array([[  0, 124,   3, ...,   0,   0,   0],\n",
       "       [  0,  10,   3, ...,   0,   0,   0],\n",
       "       [  0,   1,   1, ...,   0,   0,   0],\n",
       "       ...,\n",
       "       [  0,   0,   0, ...,   0,   0,   0],\n",
       "       [  0,   0,   0, ...,   0,   0,   0],\n",
       "       [  0,   0,   0, ...,   0,   0,   0]])"
      ]
     },
     "execution_count": 49,
     "metadata": {},
     "output_type": "execute_result"
    }
   ],
   "source": [
    "confusion_matrix(test['Recovered'], y_pred['Recovered Prediction'])"
   ]
  },
  {
   "cell_type": "code",
   "execution_count": 50,
   "metadata": {},
   "outputs": [],
   "source": [
    "def find_TP(y_true, y_pred):\n",
    "    # counts the number of true positives (y_true = 1, y_pred = 1)\n",
    "    return sum((y_true == 1) & (y_pred == 1))\n",
    "def find_FN(y_true, y_pred):\n",
    "    # counts the number of false negatives (y_true = 1, y_pred = 0)\n",
    "    return # your code here\n",
    "def find_FP(y_true, y_pred):\n",
    "    # counts the number of false positives (y_true = 0, y_pred = 1)\n",
    "    return # your code here\n",
    "def find_TN(y_true, y_pred):\n",
    "    # counts the number of true negatives (y_true = 0, y_pred = 0)\n",
    "    return # your code here"
   ]
  },
  {
   "cell_type": "code",
   "execution_count": 51,
   "metadata": {},
   "outputs": [
    {
     "name": "stdout",
     "output_type": "stream",
     "text": [
      "TP: 0\n",
      "FN: None\n",
      "FP: None\n",
      "TN: None\n"
     ]
    }
   ],
   "source": [
    "print('TP:',find_TP(test['Confirmed'], y_pred['Confirmed Prediction']))\n",
    "print('FN:',find_FN(test['Confirmed'], y_pred['Confirmed Prediction']))\n",
    "print('FP:',find_FP(test['Confirmed'], y_pred['Confirmed Prediction']))\n",
    "print('TN:',find_TN(test['Confirmed'], y_pred['Confirmed Prediction']))"
   ]
  },
  {
   "cell_type": "code",
   "execution_count": 52,
   "metadata": {},
   "outputs": [
    {
     "name": "stdout",
     "output_type": "stream",
     "text": [
      "TP: 0\n",
      "FN: None\n",
      "FP: None\n",
      "TN: None\n"
     ]
    }
   ],
   "source": [
    "print('TP:',find_TP(test['Deaths'], y_pred['Deaths Prediction']))\n",
    "print('FN:',find_FN(test['Deaths'], y_pred['Deaths Prediction']))\n",
    "print('FP:',find_FP(test['Deaths'], y_pred['Deaths Prediction']))\n",
    "print('TN:',find_TN(test['Deaths'], y_pred['Deaths Prediction']))"
   ]
  },
  {
   "cell_type": "code",
   "execution_count": 53,
   "metadata": {},
   "outputs": [
    {
     "name": "stdout",
     "output_type": "stream",
     "text": [
      "TP: 0\n",
      "FN: None\n",
      "FP: None\n",
      "TN: None\n"
     ]
    }
   ],
   "source": [
    "print('TP:',find_TP(test['Recovered'], y_pred['Recovered Prediction']))\n",
    "print('FN:',find_FN(test['Recovered'], y_pred['Recovered Prediction']))\n",
    "print('FP:',find_FP(test['Recovered'], y_pred['Recovered Prediction']))\n",
    "print('TN:',find_TN(test['Recovered'], y_pred['Recovered Prediction']))"
   ]
  },
  {
   "cell_type": "markdown",
   "metadata": {},
   "source": [
    "### F1 "
   ]
  },
  {
   "cell_type": "code",
   "execution_count": 54,
   "metadata": {},
   "outputs": [
    {
     "data": {
      "text/plain": [
       "0.0005053340819764178"
      ]
     },
     "execution_count": 54,
     "metadata": {},
     "output_type": "execute_result"
    }
   ],
   "source": [
    "f1_score(test['Confirmed'], y_pred['Confirmed Prediction'],average='weighted',zero_division='warn')"
   ]
  },
  {
   "cell_type": "code",
   "execution_count": 55,
   "metadata": {},
   "outputs": [
    {
     "data": {
      "text/plain": [
       "0.3935856115463841"
      ]
     },
     "execution_count": 55,
     "metadata": {},
     "output_type": "execute_result"
    }
   ],
   "source": [
    "f1_score(test['Deaths'], y_pred['Deaths Prediction'],average='weighted',zero_division='warn')"
   ]
  },
  {
   "cell_type": "code",
   "execution_count": 56,
   "metadata": {},
   "outputs": [
    {
     "data": {
      "text/plain": [
       "0.007536439464150307"
      ]
     },
     "execution_count": 56,
     "metadata": {},
     "output_type": "execute_result"
    }
   ],
   "source": [
    "f1_score(test['Recovered'], y_pred['Recovered Prediction'],average='weighted',zero_division='warn')"
   ]
  },
  {
   "cell_type": "markdown",
   "metadata": {},
   "source": [
    "## Sigmoid epsilon=0.1"
   ]
  },
  {
   "cell_type": "code",
   "execution_count": 57,
   "metadata": {},
   "outputs": [],
   "source": [
    "y_pred = pd.DataFrame(data=predictions_s,columns=['Confirmed Prediction','Deaths Prediction','Recovered Prediction'])"
   ]
  },
  {
   "cell_type": "markdown",
   "metadata": {},
   "source": [
    "### Precision"
   ]
  },
  {
   "cell_type": "code",
   "execution_count": 58,
   "metadata": {},
   "outputs": [
    {
     "data": {
      "text/plain": [
       "0.0014423076923076924"
      ]
     },
     "execution_count": 58,
     "metadata": {},
     "output_type": "execute_result"
    }
   ],
   "source": [
    "precision_score(test['Confirmed'], y_pred['Confirmed Prediction'],average='weighted',zero_division='warn')"
   ]
  },
  {
   "cell_type": "code",
   "execution_count": 59,
   "metadata": {},
   "outputs": [
    {
     "data": {
      "text/plain": [
       "0.6491878491878492"
      ]
     },
     "execution_count": 59,
     "metadata": {},
     "output_type": "execute_result"
    }
   ],
   "source": [
    "precision_score(test['Deaths'], y_pred['Deaths Prediction'],average='weighted',zero_division='warn')"
   ]
  },
  {
   "cell_type": "code",
   "execution_count": 60,
   "metadata": {},
   "outputs": [
    {
     "data": {
      "text/plain": [
       "0.007427149964463397"
      ]
     },
     "execution_count": 60,
     "metadata": {},
     "output_type": "execute_result"
    }
   ],
   "source": [
    "precision_score(test['Recovered'], y_pred['Recovered Prediction'],average='weighted',zero_division='warn')"
   ]
  },
  {
   "cell_type": "markdown",
   "metadata": {},
   "source": [
    "### Accuracy"
   ]
  },
  {
   "cell_type": "code",
   "execution_count": 61,
   "metadata": {},
   "outputs": [
    {
     "data": {
      "text/plain": [
       "0.011538461538461539"
      ]
     },
     "execution_count": 61,
     "metadata": {},
     "output_type": "execute_result"
    }
   ],
   "source": [
    "accuracy_score(test['Confirmed'], y_pred['Confirmed Prediction'])"
   ]
  },
  {
   "cell_type": "code",
   "execution_count": 62,
   "metadata": {},
   "outputs": [
    {
     "data": {
      "text/plain": [
       "0.45"
      ]
     },
     "execution_count": 62,
     "metadata": {},
     "output_type": "execute_result"
    }
   ],
   "source": [
    "accuracy_score(test['Deaths'], y_pred['Deaths Prediction'])"
   ]
  },
  {
   "cell_type": "code",
   "execution_count": 63,
   "metadata": {},
   "outputs": [
    {
     "data": {
      "text/plain": [
       "0.04230769230769231"
      ]
     },
     "execution_count": 63,
     "metadata": {},
     "output_type": "execute_result"
    }
   ],
   "source": [
    "accuracy_score(test['Recovered'], y_pred['Recovered Prediction'])"
   ]
  },
  {
   "cell_type": "markdown",
   "metadata": {},
   "source": [
    "### Recall"
   ]
  },
  {
   "cell_type": "code",
   "execution_count": 64,
   "metadata": {},
   "outputs": [
    {
     "data": {
      "text/plain": [
       "0.011538461538461539"
      ]
     },
     "execution_count": 64,
     "metadata": {},
     "output_type": "execute_result"
    }
   ],
   "source": [
    "recall_score(test['Confirmed'], y_pred['Confirmed Prediction'],average='weighted',zero_division='warn')"
   ]
  },
  {
   "cell_type": "code",
   "execution_count": 65,
   "metadata": {},
   "outputs": [
    {
     "data": {
      "text/plain": [
       "0.45"
      ]
     },
     "execution_count": 65,
     "metadata": {},
     "output_type": "execute_result"
    }
   ],
   "source": [
    "recall_score(test['Deaths'], y_pred['Deaths Prediction'],average='weighted',zero_division='warn')"
   ]
  },
  {
   "cell_type": "code",
   "execution_count": 66,
   "metadata": {},
   "outputs": [
    {
     "data": {
      "text/plain": [
       "0.04230769230769231"
      ]
     },
     "execution_count": 66,
     "metadata": {},
     "output_type": "execute_result"
    }
   ],
   "source": [
    "recall_score(test['Recovered'], y_pred['Recovered Prediction'],average='weighted',zero_division='warn')"
   ]
  },
  {
   "cell_type": "markdown",
   "metadata": {},
   "source": [
    "### Confusion Matrix"
   ]
  },
  {
   "cell_type": "code",
   "execution_count": 67,
   "metadata": {},
   "outputs": [
    {
     "data": {
      "text/plain": [
       "array([[0, 0, 0, ..., 0, 0, 0],\n",
       "       [0, 0, 0, ..., 0, 0, 0],\n",
       "       [0, 0, 0, ..., 0, 0, 0],\n",
       "       ...,\n",
       "       [0, 0, 0, ..., 0, 0, 0],\n",
       "       [0, 0, 0, ..., 0, 0, 0],\n",
       "       [0, 0, 0, ..., 0, 0, 0]])"
      ]
     },
     "execution_count": 67,
     "metadata": {},
     "output_type": "execute_result"
    }
   ],
   "source": [
    "confusion_matrix(test['Confirmed'], y_pred['Confirmed Prediction'])"
   ]
  },
  {
   "cell_type": "code",
   "execution_count": 68,
   "metadata": {},
   "outputs": [
    {
     "data": {
      "text/plain": [
       "array([[  0,   0,   0, ...,   0,   0,   0],\n",
       "       [  0,   0,   0, ...,   0,   0,   0],\n",
       "       [  0,   0, 107, ...,   0,   0,   0],\n",
       "       ...,\n",
       "       [  0,   0,   0, ...,   0,   0,   0],\n",
       "       [  0,   1,   0, ...,   0,   0,   0],\n",
       "       [  1,   0,   0, ...,   0,   0,   0]])"
      ]
     },
     "execution_count": 68,
     "metadata": {},
     "output_type": "execute_result"
    }
   ],
   "source": [
    "confusion_matrix(test['Deaths'], y_pred['Deaths Prediction'])"
   ]
  },
  {
   "cell_type": "code",
   "execution_count": 69,
   "metadata": {},
   "outputs": [
    {
     "data": {
      "text/plain": [
       "array([[  0, 120,   1, ...,   0,   0,   0],\n",
       "       [  0,   8,   2, ...,   0,   0,   0],\n",
       "       [  0,   1,   0, ...,   0,   0,   0],\n",
       "       ...,\n",
       "       [  0,   0,   0, ...,   0,   0,   0],\n",
       "       [  0,   0,   0, ...,   0,   0,   0],\n",
       "       [  0,   0,   0, ...,   0,   0,   0]])"
      ]
     },
     "execution_count": 69,
     "metadata": {},
     "output_type": "execute_result"
    }
   ],
   "source": [
    "confusion_matrix(test['Recovered'], y_pred['Recovered Prediction'])"
   ]
  },
  {
   "cell_type": "code",
   "execution_count": 70,
   "metadata": {},
   "outputs": [],
   "source": [
    "def find_TP(y_true, y_pred):\n",
    "    # counts the number of true positives (y_true = 1, y_pred = 1)\n",
    "    return sum((y_true == 1) & (y_pred == 1))\n",
    "def find_FN(y_true, y_pred):\n",
    "    # counts the number of false negatives (y_true = 1, y_pred = 0)\n",
    "    return # your code here\n",
    "def find_FP(y_true, y_pred):\n",
    "    # counts the number of false positives (y_true = 0, y_pred = 1)\n",
    "    return # your code here\n",
    "def find_TN(y_true, y_pred):\n",
    "    # counts the number of true negatives (y_true = 0, y_pred = 0)\n",
    "    return # your code here"
   ]
  },
  {
   "cell_type": "code",
   "execution_count": 71,
   "metadata": {},
   "outputs": [
    {
     "name": "stdout",
     "output_type": "stream",
     "text": [
      "TP: 0\n",
      "FN: None\n",
      "FP: None\n",
      "TN: None\n"
     ]
    }
   ],
   "source": [
    "print('TP:',find_TP(test['Confirmed'], y_pred['Confirmed Prediction']))\n",
    "print('FN:',find_FN(test['Confirmed'], y_pred['Confirmed Prediction']))\n",
    "print('FP:',find_FP(test['Confirmed'], y_pred['Confirmed Prediction']))\n",
    "print('TN:',find_TN(test['Confirmed'], y_pred['Confirmed Prediction']))"
   ]
  },
  {
   "cell_type": "code",
   "execution_count": 72,
   "metadata": {},
   "outputs": [
    {
     "name": "stdout",
     "output_type": "stream",
     "text": [
      "TP: 0\n",
      "FN: None\n",
      "FP: None\n",
      "TN: None\n"
     ]
    }
   ],
   "source": [
    "print('TP:',find_TP(test['Deaths'], y_pred['Deaths Prediction']))\n",
    "print('FN:',find_FN(test['Deaths'], y_pred['Deaths Prediction']))\n",
    "print('FP:',find_FP(test['Deaths'], y_pred['Deaths Prediction']))\n",
    "print('TN:',find_TN(test['Deaths'], y_pred['Deaths Prediction']))"
   ]
  },
  {
   "cell_type": "code",
   "execution_count": 73,
   "metadata": {},
   "outputs": [
    {
     "name": "stdout",
     "output_type": "stream",
     "text": [
      "TP: 0\n",
      "FN: None\n",
      "FP: None\n",
      "TN: None\n"
     ]
    }
   ],
   "source": [
    "print('TP:',find_TP(test['Recovered'], y_pred['Recovered Prediction']))\n",
    "print('FN:',find_FN(test['Recovered'], y_pred['Recovered Prediction']))\n",
    "print('FP:',find_FP(test['Recovered'], y_pred['Recovered Prediction']))\n",
    "print('TN:',find_TN(test['Recovered'], y_pred['Recovered Prediction']))"
   ]
  },
  {
   "cell_type": "markdown",
   "metadata": {},
   "source": [
    "### F1 "
   ]
  },
  {
   "cell_type": "code",
   "execution_count": 74,
   "metadata": {},
   "outputs": [
    {
     "data": {
      "text/plain": [
       "0.002564102564102564"
      ]
     },
     "execution_count": 74,
     "metadata": {},
     "output_type": "execute_result"
    }
   ],
   "source": [
    "f1_score(test['Confirmed'], y_pred['Confirmed Prediction'],average='weighted',zero_division='warn')"
   ]
  },
  {
   "cell_type": "code",
   "execution_count": 75,
   "metadata": {},
   "outputs": [
    {
     "data": {
      "text/plain": [
       "0.5287771281373395"
      ]
     },
     "execution_count": 75,
     "metadata": {},
     "output_type": "execute_result"
    }
   ],
   "source": [
    "f1_score(test['Deaths'], y_pred['Deaths Prediction'],average='weighted',zero_division='warn')"
   ]
  },
  {
   "cell_type": "code",
   "execution_count": 76,
   "metadata": {
    "scrolled": true
   },
   "outputs": [
    {
     "data": {
      "text/plain": [
       "0.011791901791901791"
      ]
     },
     "execution_count": 76,
     "metadata": {},
     "output_type": "execute_result"
    }
   ],
   "source": [
    "f1_score(test['Recovered'], y_pred['Recovered Prediction'],average='weighted',zero_division='warn')"
   ]
  },
  {
   "cell_type": "markdown",
   "metadata": {},
   "source": [
    "## RBF com epsilon =0.2"
   ]
  },
  {
   "cell_type": "code",
   "execution_count": 77,
   "metadata": {},
   "outputs": [],
   "source": [
    "y_pred = pd.DataFrame(data=predictions_rbf2 ,columns=['Confirmed Prediction','Deaths Prediction','Recovered Prediction'])"
   ]
  },
  {
   "cell_type": "markdown",
   "metadata": {},
   "source": [
    "### Precision"
   ]
  },
  {
   "cell_type": "code",
   "execution_count": 78,
   "metadata": {},
   "outputs": [
    {
     "data": {
      "text/plain": [
       "0.0002526670409882089"
      ]
     },
     "execution_count": 78,
     "metadata": {},
     "output_type": "execute_result"
    }
   ],
   "source": [
    "precision_score(test['Confirmed'], y_pred['Confirmed Prediction'],average='weighted',zero_division='warn')"
   ]
  },
  {
   "cell_type": "code",
   "execution_count": 79,
   "metadata": {},
   "outputs": [
    {
     "data": {
      "text/plain": [
       "0.6407459207459207"
      ]
     },
     "execution_count": 79,
     "metadata": {},
     "output_type": "execute_result"
    }
   ],
   "source": [
    "precision_score(test['Deaths'], y_pred['Deaths Prediction'],average='weighted',zero_division='warn')"
   ]
  },
  {
   "cell_type": "code",
   "execution_count": 80,
   "metadata": {},
   "outputs": [
    {
     "data": {
      "text/plain": [
       "0.004143772893772895"
      ]
     },
     "execution_count": 80,
     "metadata": {},
     "output_type": "execute_result"
    }
   ],
   "source": [
    "precision_score(test['Recovered'], y_pred['Recovered Prediction'],average='weighted',zero_division='warn')"
   ]
  },
  {
   "cell_type": "markdown",
   "metadata": {},
   "source": [
    "### Accuracy"
   ]
  },
  {
   "cell_type": "code",
   "execution_count": 81,
   "metadata": {},
   "outputs": [
    {
     "data": {
      "text/plain": [
       "0.011538461538461539"
      ]
     },
     "execution_count": 81,
     "metadata": {},
     "output_type": "execute_result"
    }
   ],
   "source": [
    "accuracy_score(test['Confirmed'], y_pred['Confirmed Prediction'])"
   ]
  },
  {
   "cell_type": "code",
   "execution_count": 82,
   "metadata": {},
   "outputs": [
    {
     "data": {
      "text/plain": [
       "0.06923076923076923"
      ]
     },
     "execution_count": 82,
     "metadata": {},
     "output_type": "execute_result"
    }
   ],
   "source": [
    "accuracy_score(test['Deaths'], y_pred['Deaths Prediction'])"
   ]
  },
  {
   "cell_type": "code",
   "execution_count": 83,
   "metadata": {},
   "outputs": [
    {
     "data": {
      "text/plain": [
       "0.04230769230769231"
      ]
     },
     "execution_count": 83,
     "metadata": {},
     "output_type": "execute_result"
    }
   ],
   "source": [
    "accuracy_score(test['Recovered'], y_pred['Recovered Prediction'])"
   ]
  },
  {
   "cell_type": "markdown",
   "metadata": {},
   "source": [
    "### Recall"
   ]
  },
  {
   "cell_type": "code",
   "execution_count": 84,
   "metadata": {},
   "outputs": [
    {
     "data": {
      "text/plain": [
       "0.011538461538461539"
      ]
     },
     "execution_count": 84,
     "metadata": {},
     "output_type": "execute_result"
    }
   ],
   "source": [
    "recall_score(test['Confirmed'], y_pred['Confirmed Prediction'],average='weighted',zero_division='warn')"
   ]
  },
  {
   "cell_type": "code",
   "execution_count": 85,
   "metadata": {},
   "outputs": [
    {
     "data": {
      "text/plain": [
       "0.06923076923076923"
      ]
     },
     "execution_count": 85,
     "metadata": {},
     "output_type": "execute_result"
    }
   ],
   "source": [
    "recall_score(test['Deaths'], y_pred['Deaths Prediction'],average='weighted',zero_division='warn')"
   ]
  },
  {
   "cell_type": "code",
   "execution_count": 86,
   "metadata": {},
   "outputs": [
    {
     "data": {
      "text/plain": [
       "0.04230769230769231"
      ]
     },
     "execution_count": 86,
     "metadata": {},
     "output_type": "execute_result"
    }
   ],
   "source": [
    "recall_score(test['Recovered'], y_pred['Recovered Prediction'],average='weighted',zero_division='warn')"
   ]
  },
  {
   "cell_type": "markdown",
   "metadata": {},
   "source": [
    "### Confusion Matrix"
   ]
  },
  {
   "cell_type": "code",
   "execution_count": 87,
   "metadata": {},
   "outputs": [
    {
     "data": {
      "text/plain": [
       "array([[0, 0, 0, ..., 0, 0, 0],\n",
       "       [0, 0, 0, ..., 0, 0, 0],\n",
       "       [0, 0, 0, ..., 0, 0, 0],\n",
       "       ...,\n",
       "       [0, 0, 0, ..., 0, 0, 0],\n",
       "       [0, 0, 0, ..., 0, 0, 0],\n",
       "       [0, 0, 0, ..., 0, 0, 0]])"
      ]
     },
     "execution_count": 87,
     "metadata": {},
     "output_type": "execute_result"
    }
   ],
   "source": [
    "confusion_matrix(test['Confirmed'], y_pred['Confirmed Prediction'])"
   ]
  },
  {
   "cell_type": "code",
   "execution_count": 88,
   "metadata": {},
   "outputs": [
    {
     "data": {
      "text/plain": [
       "array([[  2, 147,   5, ...,   0,   0,   0],\n",
       "       [  0,  11,   8, ...,   0,   0,   0],\n",
       "       [  0,   2,   2, ...,   0,   0,   0],\n",
       "       ...,\n",
       "       [  0,   0,   0, ...,   0,   0,   0],\n",
       "       [  0,   0,   0, ...,   0,   0,   0],\n",
       "       [  0,   0,   0, ...,   0,   0,   0]])"
      ]
     },
     "execution_count": 88,
     "metadata": {},
     "output_type": "execute_result"
    }
   ],
   "source": [
    "confusion_matrix(test['Deaths'], y_pred['Deaths Prediction'])"
   ]
  },
  {
   "cell_type": "code",
   "execution_count": 89,
   "metadata": {},
   "outputs": [
    {
     "data": {
      "text/plain": [
       "array([[  0, 123,   4, ...,   0,   0,   0],\n",
       "       [  0,  10,   3, ...,   0,   0,   0],\n",
       "       [  0,   1,   1, ...,   0,   0,   0],\n",
       "       ...,\n",
       "       [  0,   0,   0, ...,   0,   0,   0],\n",
       "       [  0,   0,   0, ...,   0,   0,   0],\n",
       "       [  0,   0,   0, ...,   0,   0,   0]])"
      ]
     },
     "execution_count": 89,
     "metadata": {},
     "output_type": "execute_result"
    }
   ],
   "source": [
    "confusion_matrix(test['Recovered'], y_pred['Recovered Prediction'])"
   ]
  },
  {
   "cell_type": "code",
   "execution_count": 90,
   "metadata": {},
   "outputs": [],
   "source": [
    "def find_TP(y_true, y_pred):\n",
    "    # counts the number of true positives (y_true = 1, y_pred = 1)\n",
    "    return sum((y_true == 1) & (y_pred == 1))\n",
    "def find_FN(y_true, y_pred):\n",
    "    # counts the number of false negatives (y_true = 1, y_pred = 0)\n",
    "    return # your code here\n",
    "def find_FP(y_true, y_pred):\n",
    "    # counts the number of false positives (y_true = 0, y_pred = 1)\n",
    "    return # your code here\n",
    "def find_TN(y_true, y_pred):\n",
    "    # counts the number of true negatives (y_true = 0, y_pred = 0)\n",
    "    return # your code here"
   ]
  },
  {
   "cell_type": "code",
   "execution_count": 91,
   "metadata": {},
   "outputs": [
    {
     "name": "stdout",
     "output_type": "stream",
     "text": [
      "TP: 0\n",
      "FN: None\n",
      "FP: None\n",
      "TN: None\n"
     ]
    }
   ],
   "source": [
    "print('TP:',find_TP(test['Confirmed'], y_pred['Confirmed Prediction']))\n",
    "print('FN:',find_FN(test['Confirmed'], y_pred['Confirmed Prediction']))\n",
    "print('FP:',find_FP(test['Confirmed'], y_pred['Confirmed Prediction']))\n",
    "print('TN:',find_TN(test['Confirmed'], y_pred['Confirmed Prediction']))"
   ]
  },
  {
   "cell_type": "code",
   "execution_count": 92,
   "metadata": {},
   "outputs": [
    {
     "name": "stdout",
     "output_type": "stream",
     "text": [
      "TP: 0\n",
      "FN: None\n",
      "FP: None\n",
      "TN: None\n"
     ]
    }
   ],
   "source": [
    "print('TP:',find_TP(test['Deaths'], y_pred['Deaths Prediction']))\n",
    "print('FN:',find_FN(test['Deaths'], y_pred['Deaths Prediction']))\n",
    "print('FP:',find_FP(test['Deaths'], y_pred['Deaths Prediction']))\n",
    "print('TN:',find_TN(test['Deaths'], y_pred['Deaths Prediction']))"
   ]
  },
  {
   "cell_type": "code",
   "execution_count": 93,
   "metadata": {},
   "outputs": [
    {
     "name": "stdout",
     "output_type": "stream",
     "text": [
      "TP: 0\n",
      "FN: None\n",
      "FP: None\n",
      "TN: None\n"
     ]
    }
   ],
   "source": [
    "print('TP:',find_TP(test['Recovered'], y_pred['Recovered Prediction']))\n",
    "print('FN:',find_FN(test['Recovered'], y_pred['Recovered Prediction']))\n",
    "print('FP:',find_FP(test['Recovered'], y_pred['Recovered Prediction']))\n",
    "print('TN:',find_TN(test['Recovered'], y_pred['Recovered Prediction']))"
   ]
  },
  {
   "cell_type": "markdown",
   "metadata": {},
   "source": [
    "### F1 "
   ]
  },
  {
   "cell_type": "code",
   "execution_count": 94,
   "metadata": {},
   "outputs": [
    {
     "data": {
      "text/plain": [
       "0.0004945054945054945"
      ]
     },
     "execution_count": 94,
     "metadata": {},
     "output_type": "execute_result"
    }
   ],
   "source": [
    "f1_score(test['Confirmed'], y_pred['Confirmed Prediction'],average='weighted',zero_division='warn')"
   ]
  },
  {
   "cell_type": "code",
   "execution_count": 95,
   "metadata": {},
   "outputs": [
    {
     "data": {
      "text/plain": [
       "0.04248629096146827"
      ]
     },
     "execution_count": 95,
     "metadata": {},
     "output_type": "execute_result"
    }
   ],
   "source": [
    "f1_score(test['Deaths'], y_pred['Deaths Prediction'],average='weighted',zero_division='warn')"
   ]
  },
  {
   "cell_type": "code",
   "execution_count": 96,
   "metadata": {
    "scrolled": false
   },
   "outputs": [
    {
     "data": {
      "text/plain": [
       "0.007543664065403197"
      ]
     },
     "execution_count": 96,
     "metadata": {},
     "output_type": "execute_result"
    }
   ],
   "source": [
    "f1_score(test['Recovered'], y_pred['Recovered Prediction'],average='weighted',zero_division='warn')"
   ]
  },
  {
   "cell_type": "markdown",
   "metadata": {},
   "source": [
    "## Sigmoid epsilon = 0.2"
   ]
  },
  {
   "cell_type": "code",
   "execution_count": 97,
   "metadata": {},
   "outputs": [],
   "source": [
    "y_pred = pd.DataFrame(data=predictions_s2 ,columns=['Confirmed Prediction','Deaths Prediction','Recovered Prediction'])"
   ]
  },
  {
   "cell_type": "markdown",
   "metadata": {},
   "source": [
    "### Precision"
   ]
  },
  {
   "cell_type": "code",
   "execution_count": 98,
   "metadata": {},
   "outputs": [
    {
     "data": {
      "text/plain": [
       "0.0015050167224080267"
      ]
     },
     "execution_count": 98,
     "metadata": {},
     "output_type": "execute_result"
    }
   ],
   "source": [
    "precision_score(test['Confirmed'], y_pred['Confirmed Prediction'],average='weighted',zero_division='warn')"
   ]
  },
  {
   "cell_type": "code",
   "execution_count": 99,
   "metadata": {},
   "outputs": [
    {
     "data": {
      "text/plain": [
       "0.6457407097407099"
      ]
     },
     "execution_count": 99,
     "metadata": {},
     "output_type": "execute_result"
    }
   ],
   "source": [
    "precision_score(test['Deaths'], y_pred['Deaths Prediction'],average='weighted',zero_division='warn')"
   ]
  },
  {
   "cell_type": "code",
   "execution_count": 100,
   "metadata": {},
   "outputs": [
    {
     "data": {
      "text/plain": [
       "0.007748637021892835"
      ]
     },
     "execution_count": 100,
     "metadata": {},
     "output_type": "execute_result"
    }
   ],
   "source": [
    "precision_score(test['Recovered'], y_pred['Recovered Prediction'],average='weighted',zero_division='warn')"
   ]
  },
  {
   "cell_type": "markdown",
   "metadata": {},
   "source": [
    "### Accuracy"
   ]
  },
  {
   "cell_type": "code",
   "execution_count": 101,
   "metadata": {},
   "outputs": [
    {
     "data": {
      "text/plain": [
       "0.011538461538461539"
      ]
     },
     "execution_count": 101,
     "metadata": {},
     "output_type": "execute_result"
    }
   ],
   "source": [
    "accuracy_score(test['Confirmed'], y_pred['Confirmed Prediction'])"
   ]
  },
  {
   "cell_type": "code",
   "execution_count": 102,
   "metadata": {},
   "outputs": [
    {
     "data": {
      "text/plain": [
       "0.46153846153846156"
      ]
     },
     "execution_count": 102,
     "metadata": {},
     "output_type": "execute_result"
    }
   ],
   "source": [
    "accuracy_score(test['Deaths'], y_pred['Deaths Prediction'])"
   ]
  },
  {
   "cell_type": "code",
   "execution_count": 103,
   "metadata": {},
   "outputs": [
    {
     "data": {
      "text/plain": [
       "0.04230769230769231"
      ]
     },
     "execution_count": 103,
     "metadata": {},
     "output_type": "execute_result"
    }
   ],
   "source": [
    "accuracy_score(test['Recovered'], y_pred['Recovered Prediction'])"
   ]
  },
  {
   "cell_type": "markdown",
   "metadata": {},
   "source": [
    "### Recall"
   ]
  },
  {
   "cell_type": "code",
   "execution_count": 104,
   "metadata": {},
   "outputs": [
    {
     "data": {
      "text/plain": [
       "0.011538461538461539"
      ]
     },
     "execution_count": 104,
     "metadata": {},
     "output_type": "execute_result"
    }
   ],
   "source": [
    "recall_score(test['Confirmed'], y_pred['Confirmed Prediction'],average='weighted',zero_division='warn')"
   ]
  },
  {
   "cell_type": "code",
   "execution_count": 105,
   "metadata": {},
   "outputs": [
    {
     "data": {
      "text/plain": [
       "0.46153846153846156"
      ]
     },
     "execution_count": 105,
     "metadata": {},
     "output_type": "execute_result"
    }
   ],
   "source": [
    "recall_score(test['Deaths'], y_pred['Deaths Prediction'],average='weighted',zero_division='warn')"
   ]
  },
  {
   "cell_type": "code",
   "execution_count": 106,
   "metadata": {},
   "outputs": [
    {
     "data": {
      "text/plain": [
       "0.04230769230769231"
      ]
     },
     "execution_count": 106,
     "metadata": {},
     "output_type": "execute_result"
    }
   ],
   "source": [
    "recall_score(test['Recovered'], y_pred['Recovered Prediction'],average='weighted',zero_division='warn')"
   ]
  },
  {
   "cell_type": "markdown",
   "metadata": {},
   "source": [
    "### Confusion Matrix"
   ]
  },
  {
   "cell_type": "code",
   "execution_count": 107,
   "metadata": {},
   "outputs": [
    {
     "data": {
      "text/plain": [
       "array([[0, 0, 0, ..., 0, 0, 0],\n",
       "       [0, 0, 0, ..., 0, 0, 0],\n",
       "       [0, 0, 0, ..., 0, 0, 0],\n",
       "       ...,\n",
       "       [0, 0, 0, ..., 0, 0, 0],\n",
       "       [0, 0, 0, ..., 0, 0, 0],\n",
       "       [0, 0, 0, ..., 0, 0, 0]])"
      ]
     },
     "execution_count": 107,
     "metadata": {},
     "output_type": "execute_result"
    }
   ],
   "source": [
    "confusion_matrix(test['Confirmed'], y_pred['Confirmed Prediction'])"
   ]
  },
  {
   "cell_type": "code",
   "execution_count": 108,
   "metadata": {},
   "outputs": [
    {
     "data": {
      "text/plain": [
       "array([[  0,   0,   0, ...,   0,   0,   0],\n",
       "       [  0,   0,   0, ...,   0,   0,   0],\n",
       "       [  0,   0, 110, ...,   0,   0,   0],\n",
       "       ...,\n",
       "       [  0,   0,   0, ...,   0,   0,   0],\n",
       "       [  0,   1,   0, ...,   0,   0,   0],\n",
       "       [  1,   0,   0, ...,   0,   0,   0]])"
      ]
     },
     "execution_count": 108,
     "metadata": {},
     "output_type": "execute_result"
    }
   ],
   "source": [
    "confusion_matrix(test['Deaths'], y_pred['Deaths Prediction'])"
   ]
  },
  {
   "cell_type": "code",
   "execution_count": 109,
   "metadata": {},
   "outputs": [
    {
     "data": {
      "text/plain": [
       "array([[  0, 117,   4, ...,   0,   0,   0],\n",
       "       [  0,   8,   2, ...,   0,   0,   0],\n",
       "       [  0,   1,   0, ...,   0,   0,   0],\n",
       "       ...,\n",
       "       [  0,   0,   0, ...,   0,   0,   0],\n",
       "       [  0,   0,   0, ...,   0,   0,   0],\n",
       "       [  0,   0,   0, ...,   0,   0,   0]])"
      ]
     },
     "execution_count": 109,
     "metadata": {},
     "output_type": "execute_result"
    }
   ],
   "source": [
    "confusion_matrix(test['Recovered'], y_pred['Recovered Prediction'])"
   ]
  },
  {
   "cell_type": "code",
   "execution_count": 110,
   "metadata": {},
   "outputs": [],
   "source": [
    "def find_TP(y_true, y_pred):\n",
    "    # counts the number of true positives (y_true = 1, y_pred = 1)\n",
    "    return sum((y_true == 1) & (y_pred == 1))\n",
    "def find_FN(y_true, y_pred):\n",
    "    # counts the number of false negatives (y_true = 1, y_pred = 0)\n",
    "    return # your code here\n",
    "def find_FP(y_true, y_pred):\n",
    "    # counts the number of false positives (y_true = 0, y_pred = 1)\n",
    "    return # your code here\n",
    "def find_TN(y_true, y_pred):\n",
    "    # counts the number of true negatives (y_true = 0, y_pred = 0)\n",
    "    return # your code here"
   ]
  },
  {
   "cell_type": "code",
   "execution_count": 111,
   "metadata": {},
   "outputs": [
    {
     "name": "stdout",
     "output_type": "stream",
     "text": [
      "TP: 0\n",
      "FN: None\n",
      "FP: None\n",
      "TN: None\n"
     ]
    }
   ],
   "source": [
    "print('TP:',find_TP(test['Confirmed'], y_pred['Confirmed Prediction']))\n",
    "print('FN:',find_FN(test['Confirmed'], y_pred['Confirmed Prediction']))\n",
    "print('FP:',find_FP(test['Confirmed'], y_pred['Confirmed Prediction']))\n",
    "print('TN:',find_TN(test['Confirmed'], y_pred['Confirmed Prediction']))"
   ]
  },
  {
   "cell_type": "code",
   "execution_count": 112,
   "metadata": {},
   "outputs": [
    {
     "name": "stdout",
     "output_type": "stream",
     "text": [
      "TP: 0\n",
      "FN: None\n",
      "FP: None\n",
      "TN: None\n"
     ]
    }
   ],
   "source": [
    "print('TP:',find_TP(test['Deaths'], y_pred['Deaths Prediction']))\n",
    "print('FN:',find_FN(test['Deaths'], y_pred['Deaths Prediction']))\n",
    "print('FP:',find_FP(test['Deaths'], y_pred['Deaths Prediction']))\n",
    "print('TN:',find_TN(test['Deaths'], y_pred['Deaths Prediction']))"
   ]
  },
  {
   "cell_type": "code",
   "execution_count": 113,
   "metadata": {},
   "outputs": [
    {
     "name": "stdout",
     "output_type": "stream",
     "text": [
      "TP: 0\n",
      "FN: None\n",
      "FP: None\n",
      "TN: None\n"
     ]
    }
   ],
   "source": [
    "print('TP:',find_TP(test['Recovered'], y_pred['Recovered Prediction']))\n",
    "print('FN:',find_FN(test['Recovered'], y_pred['Recovered Prediction']))\n",
    "print('FP:',find_FP(test['Recovered'], y_pred['Recovered Prediction']))\n",
    "print('TN:',find_TN(test['Recovered'], y_pred['Recovered Prediction']))"
   ]
  },
  {
   "cell_type": "markdown",
   "metadata": {},
   "source": [
    "### F1 "
   ]
  },
  {
   "cell_type": "code",
   "execution_count": 114,
   "metadata": {},
   "outputs": [
    {
     "data": {
      "text/plain": [
       "0.0026627218934911242"
      ]
     },
     "execution_count": 114,
     "metadata": {},
     "output_type": "execute_result"
    }
   ],
   "source": [
    "f1_score(test['Confirmed'], y_pred['Confirmed Prediction'],average='weighted',zero_division='warn')"
   ]
  },
  {
   "cell_type": "code",
   "execution_count": 115,
   "metadata": {},
   "outputs": [
    {
     "data": {
      "text/plain": [
       "0.5363012250032001"
      ]
     },
     "execution_count": 115,
     "metadata": {},
     "output_type": "execute_result"
    }
   ],
   "source": [
    "f1_score(test['Deaths'], y_pred['Deaths Prediction'],average='weighted',zero_division='warn')"
   ]
  },
  {
   "cell_type": "code",
   "execution_count": 116,
   "metadata": {
    "scrolled": false
   },
   "outputs": [
    {
     "data": {
      "text/plain": [
       "0.012201900663439125"
      ]
     },
     "execution_count": 116,
     "metadata": {},
     "output_type": "execute_result"
    }
   ],
   "source": [
    "f1_score(test['Recovered'], y_pred['Recovered Prediction'],average='weighted',zero_division='warn')"
   ]
  },
  {
   "cell_type": "code",
   "execution_count": null,
   "metadata": {},
   "outputs": [],
   "source": []
  },
  {
   "cell_type": "code",
   "execution_count": null,
   "metadata": {},
   "outputs": [],
   "source": []
  },
  {
   "cell_type": "code",
   "execution_count": null,
   "metadata": {},
   "outputs": [],
   "source": []
  },
  {
   "cell_type": "code",
   "execution_count": null,
   "metadata": {},
   "outputs": [],
   "source": []
  }
 ],
 "metadata": {
  "kernelspec": {
   "display_name": "Python 3",
   "language": "python",
   "name": "python3"
  },
  "language_info": {
   "codemirror_mode": {
    "name": "ipython",
    "version": 3
   },
   "file_extension": ".py",
   "mimetype": "text/x-python",
   "name": "python",
   "nbconvert_exporter": "python",
   "pygments_lexer": "ipython3",
   "version": "3.8.3"
  }
 },
 "nbformat": 4,
 "nbformat_minor": 2
}
